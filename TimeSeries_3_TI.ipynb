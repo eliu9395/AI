{
  "nbformat": 4,
  "nbformat_minor": 0,
  "metadata": {
    "colab": {
      "provenance": [],
      "include_colab_link": true
    },
    "kernelspec": {
      "name": "python3",
      "display_name": "Python 3"
    },
    "language_info": {
      "name": "python"
    }
  },
  "cells": [
    {
      "cell_type": "markdown",
      "metadata": {
        "id": "view-in-github",
        "colab_type": "text"
      },
      "source": [
        "<a href=\"https://colab.research.google.com/github/eliu9395/AI/blob/main/TimeSeries_3_TI.ipynb\" target=\"_parent\"><img src=\"https://colab.research.google.com/assets/colab-badge.svg\" alt=\"Open In Colab\"/></a>"
      ]
    },
    {
      "cell_type": "markdown",
      "source": [
        "Technique Index, TI\n",
        "---\n",
        "To analyze the financial data, using yahoo's data  is not enough; we need more `features`, i.e. TI.\n",
        "\n",
        "To add more TI's, install C-pachage, ta, in google drive, the linux-based platform, as follows:\n",
        "1. dawnload ans install ta-lib/ta-lib-0.4.0-src.tar.gz,\n",
        "2. install Python-wrapped ta package, `Ta-Lib`\n",
        "\n"
      ],
      "metadata": {
        "id": "nwn8c7uY05Q7"
      }
    },
    {
      "cell_type": "code",
      "source": [
        "!uname -a"
      ],
      "metadata": {
        "id": "3HFE7Z30Si8T",
        "colab": {
          "base_uri": "https://localhost:8080/"
        },
        "outputId": "c1559ebc-37f8-4ace-c4d9-fc832b80b039"
      },
      "execution_count": null,
      "outputs": [
        {
          "output_type": "stream",
          "name": "stdout",
          "text": [
            "Linux 42a1e1267d7f 6.1.85+ #1 SMP PREEMPT_DYNAMIC Thu Jun 27 21:05:47 UTC 2024 x86_64 x86_64 x86_64 GNU/Linux\n"
          ]
        }
      ]
    },
    {
      "cell_type": "code",
      "source": [
        "!ls -a .."
      ],
      "metadata": {
        "id": "b-YlzpDfSrES",
        "colab": {
          "base_uri": "https://localhost:8080/"
        },
        "outputId": "671c7dd2-6200-4d53-990d-782da218db44"
      },
      "execution_count": null,
      "outputs": [
        {
          "output_type": "stream",
          "name": "stdout",
          "text": [
            ".\t cuda-keyring_1.0-1_all.deb  home    libx32\t\t       proc\t   srv\t  var\n",
            "..\t datalab\t\t     kaggle  media\t\t       python-apt  sys\n",
            "bin\t dev\t\t\t     lib     mnt\t\t       root\t   tmp\n",
            "boot\t .dockerenv\t\t     lib32   NGC-DL-CONTAINER-LICENSE  run\t   tools\n",
            "content  etc\t\t\t     lib64   opt\t\t       sbin\t   usr\n"
          ]
        }
      ]
    },
    {
      "cell_type": "code",
      "execution_count": null,
      "metadata": {
        "id": "V4No98OR0zpe",
        "colab": {
          "base_uri": "https://localhost:8080/",
          "height": 1000
        },
        "collapsed": true,
        "outputId": "d6fe4e70-6f4c-403f-b753-81336ce9aa13"
      },
      "outputs": [
        {
          "output_type": "stream",
          "name": "stdout",
          "text": [
            "--2024-07-20 01:32:46--  http://prdownloads.sourceforge.net/ta-lib/ta-lib-0.4.0-src.tar.gz\n",
            "Resolving prdownloads.sourceforge.net (prdownloads.sourceforge.net)... 204.68.111.105\n",
            "Connecting to prdownloads.sourceforge.net (prdownloads.sourceforge.net)|204.68.111.105|:80... connected.\n",
            "HTTP request sent, awaiting response... 301 Moved Permanently\n",
            "Location: http://downloads.sourceforge.net/project/ta-lib/ta-lib/0.4.0/ta-lib-0.4.0-src.tar.gz [following]\n",
            "--2024-07-20 01:32:46--  http://downloads.sourceforge.net/project/ta-lib/ta-lib/0.4.0/ta-lib-0.4.0-src.tar.gz\n",
            "Resolving downloads.sourceforge.net (downloads.sourceforge.net)... 204.68.111.105\n",
            "Reusing existing connection to prdownloads.sourceforge.net:80.\n",
            "HTTP request sent, awaiting response... 302 Found\n",
            "Location: http://phoenixnap.dl.sourceforge.net/project/ta-lib/ta-lib/0.4.0/ta-lib-0.4.0-src.tar.gz?viasf=1 [following]\n",
            "--2024-07-20 01:32:46--  http://phoenixnap.dl.sourceforge.net/project/ta-lib/ta-lib/0.4.0/ta-lib-0.4.0-src.tar.gz?viasf=1\n",
            "Resolving phoenixnap.dl.sourceforge.net (phoenixnap.dl.sourceforge.net)... 184.164.141.26\n",
            "Connecting to phoenixnap.dl.sourceforge.net (phoenixnap.dl.sourceforge.net)|184.164.141.26|:80... connected.\n",
            "HTTP request sent, awaiting response... 200 OK\n",
            "Length: 1330299 (1.3M) [application/x-gzip]\n",
            "Saving to: ‘ta-lib-0.4.0-src.tar.gz’\n",
            "\n",
            "ta-lib-0.4.0-src.ta 100%[===================>]   1.27M  5.03MB/s    in 0.3s    \n",
            "\n",
            "2024-07-20 01:32:46 (5.03 MB/s) - ‘ta-lib-0.4.0-src.tar.gz’ saved [1330299/1330299]\n",
            "\n",
            "ta-lib/\n",
            "ta-lib/config.sub\n",
            "ta-lib/aclocal.m4\n",
            "ta-lib/CHANGELOG.TXT\n",
            "ta-lib/include/\n",
            "ta-lib/include/ta_abstract.h\n",
            "ta-lib/include/ta_func.h\n",
            "ta-lib/include/ta_common.h\n",
            "ta-lib/include/ta_config.h.in\n",
            "ta-lib/include/Makefile.am\n",
            "ta-lib/include/ta_libc.h\n",
            "ta-lib/include/ta_defs.h\n",
            "ta-lib/missing\n",
            "ta-lib/ta-lib.spec.in\n",
            "ta-lib/config.guess\n",
            "ta-lib/Makefile.in\n",
            "ta-lib/ta-lib.dpkg.in\n",
            "ta-lib/Makefile.am\n",
            "ta-lib/autogen.sh\n",
            "ta-lib/install-sh\n",
            "ta-lib/configure\n",
            "ta-lib/depcomp\n",
            "ta-lib/HISTORY.TXT\n",
            "ta-lib/configure.in\n",
            "ta-lib/autom4te.cache/\n",
            "ta-lib/autom4te.cache/output.0\n",
            "ta-lib/autom4te.cache/requests\n",
            "ta-lib/autom4te.cache/output.1\n",
            "ta-lib/autom4te.cache/traces.0\n",
            "ta-lib/autom4te.cache/traces.1\n",
            "ta-lib/ltmain.sh\n",
            "ta-lib/ta-lib-config.in\n",
            "ta-lib/src/\n",
            "ta-lib/src/ta_func/\n",
            "ta-lib/src/ta_func/ta_MACDFIX.c\n",
            "ta-lib/src/ta_func/ta_CDLPIERCING.c\n",
            "ta-lib/src/ta_func/ta_DIV.c\n",
            "ta-lib/src/ta_func/ta_ROCR100.c\n",
            "ta-lib/src/ta_func/ta_ADXR.c\n",
            "ta-lib/src/ta_func/ta_MAVP.c\n",
            "ta-lib/src/ta_func/ta_CDLCLOSINGMARUBOZU.c\n",
            "ta-lib/src/ta_func/ta_COSH.c\n",
            "ta-lib/src/ta_func/ta_EXP.c\n",
            "ta-lib/src/ta_func/ta_MINMAXINDEX.c\n",
            "ta-lib/src/ta_func/ta_SQRT.c\n",
            "ta-lib/src/ta_func/ta_FLOOR.c\n",
            "ta-lib/src/ta_func/ta_CDLCONCEALBABYSWALL.c\n",
            "ta-lib/src/ta_func/ta_NATR.c\n",
            "ta-lib/src/ta_func/ta_CDLHARAMICROSS.c\n",
            "ta-lib/src/ta_func/ta_MINUS_DM.c\n",
            "ta-lib/src/ta_func/ta_LOG10.c\n",
            "ta-lib/src/ta_func/ta_LINEARREG_ANGLE.c\n",
            "ta-lib/src/ta_func/ta_RSI.c\n",
            "ta-lib/src/ta_func/ta_CDLABANDONEDBABY.c\n",
            "ta-lib/src/ta_func/ta_SAR.c\n",
            "ta-lib/src/ta_func/ta_CDLBREAKAWAY.c\n",
            "ta-lib/src/ta_func/ta_CDLDRAGONFLYDOJI.c\n",
            "ta-lib/src/ta_func/ta_CDLHIGHWAVE.c\n",
            "ta-lib/src/ta_func/ta_CDLKICKING.c\n",
            "ta-lib/src/ta_func/ta_CDLDOJISTAR.c\n",
            "ta-lib/src/ta_func/ta_VAR.c\n",
            "ta-lib/src/ta_func/ta_CDLMATCHINGLOW.c\n",
            "ta-lib/src/ta_func/ta_CDLGAPSIDESIDEWHITE.c\n",
            "ta-lib/src/ta_func/ta_CDLMARUBOZU.c\n",
            "ta-lib/src/ta_func/ta_AROONOSC.c\n",
            "ta-lib/src/ta_func/ta_WCLPRICE.c\n",
            "ta-lib/src/ta_func/ta_CDLEVENINGDOJISTAR.c\n",
            "ta-lib/src/ta_func/ta_CDL3INSIDE.c\n",
            "ta-lib/src/ta_func/ta_OBV.c\n",
            "ta-lib/src/ta_func/ta_AROON.c\n",
            "ta-lib/src/ta_func/ta_CDLBELTHOLD.c\n",
            "ta-lib/src/ta_func/ta_CDLSPINNINGTOP.c\n",
            "ta-lib/src/ta_func/ta_AD.c\n",
            "ta-lib/src/ta_func/ta_MAX.c\n",
            "ta-lib/src/ta_func/ta_CDLENGULFING.c\n",
            "ta-lib/src/ta_func/ta_MINMAX.c\n",
            "ta-lib/src/ta_func/ta_CDLINNECK.c\n",
            "ta-lib/src/ta_func/ta_STDDEV.c\n",
            "ta-lib/src/ta_func/ta_NVI.c\n",
            "ta-lib/src/ta_func/ta_CDLHAMMER.c\n",
            "ta-lib/src/ta_func/ta_ASIN.c\n",
            "ta-lib/src/ta_func/ta_SUM.c\n",
            "ta-lib/src/ta_func/ta_STOCH.c\n",
            "ta-lib/src/ta_func/ta_CDLLONGLEGGEDDOJI.c\n",
            "ta-lib/src/ta_func/ta_MEDPRICE.c\n",
            "ta-lib/src/ta_func/ta_CDL3STARSINSOUTH.c\n",
            "ta-lib/src/ta_func/ta_HT_TRENDMODE.c\n",
            "ta-lib/src/ta_func/ta_BBANDS.c\n",
            "ta-lib/src/ta_func/ta_CDLMORNINGSTAR.c\n",
            "ta-lib/src/ta_func/ta_HT_DCPHASE.c\n",
            "ta-lib/src/ta_func/ta_CDLLONGLINE.c\n",
            "ta-lib/src/ta_func/ta_TAN.c\n",
            "ta-lib/src/ta_func/ta_SMA.c\n",
            "ta-lib/src/ta_func/ta_DX.c\n",
            "ta-lib/src/ta_func/ta_MIDPOINT.c\n",
            "ta-lib/src/ta_func/ta_CDL2CROWS.c\n",
            "ta-lib/src/ta_func/ta_CORREL.c\n",
            "ta-lib/src/ta_func/ta_CDL3BLACKCROWS.c\n",
            "ta-lib/src/ta_func/ta_ADD.c\n",
            "ta-lib/src/ta_func/Makefile.in\n",
            "ta-lib/src/ta_func/ta_CDLTHRUSTING.c\n",
            "ta-lib/src/ta_func/ta_SUB.c\n",
            "ta-lib/src/ta_func/ta_CDLSTALLEDPATTERN.c\n",
            "ta-lib/src/ta_func/ta_CDLTRISTAR.c\n",
            "ta-lib/src/ta_func/ta_MA.c\n",
            "ta-lib/src/ta_func/ta_HT_SINE.c\n",
            "ta-lib/src/ta_func/ta_ACOS.c\n",
            "ta-lib/src/ta_func/ta_CDLSTICKSANDWICH.c\n",
            "ta-lib/src/ta_func/ta_SINH.c\n",
            "ta-lib/src/ta_func/ta_utility.h\n",
            "ta-lib/src/ta_func/ta_CDLSHORTLINE.c\n",
            "ta-lib/src/ta_func/ta_ATAN.c\n",
            "ta-lib/src/ta_func/ta_CDLADVANCEBLOCK.c\n",
            "ta-lib/src/ta_func/ta_CDLKICKINGBYLENGTH.c\n",
            "ta-lib/src/ta_func/ta_CDLSHOOTINGSTAR.c\n",
            "ta-lib/src/ta_func/ta_ROCR.c\n",
            "ta-lib/src/ta_func/ta_WMA.c\n",
            "ta-lib/src/ta_func/ta_CDLDARKCLOUDCOVER.c\n",
            "ta-lib/src/ta_func/ta_CDLXSIDEGAP3METHODS.c\n",
            "ta-lib/src/ta_func/ta_TYPPRICE.c\n",
            "ta-lib/src/ta_func/ta_CDL3WHITESOLDIERS.c\n",
            "ta-lib/src/ta_func/Makefile.am\n",
            "ta-lib/src/ta_func/ta_MACDEXT.c\n",
            "ta-lib/src/ta_func/ta_ADX.c\n",
            "ta-lib/src/ta_func/ta_PLUS_DM.c\n",
            "ta-lib/src/ta_func/ta_CDLUPSIDEGAP2CROWS.c\n",
            "ta-lib/src/ta_func/ta_LN.c\n",
            "ta-lib/src/ta_func/ta_DEMA.c\n",
            "ta-lib/src/ta_func/ta_CDL3OUTSIDE.c\n",
            "ta-lib/src/ta_func/ta_CDLTASUKIGAP.c\n",
            "ta-lib/src/ta_func/ta_MAMA.c\n",
            "ta-lib/src/ta_func/ta_CDLMORNINGDOJISTAR.c\n",
            "ta-lib/src/ta_func/ta_PLUS_DI.c\n",
            "ta-lib/src/ta_func/ta_MININDEX.c\n",
            "ta-lib/src/ta_func/ta_COS.c\n",
            "ta-lib/src/ta_func/ta_HT_TRENDLINE.c\n",
            "ta-lib/src/ta_func/ta_MIDPRICE.c\n",
            "ta-lib/src/ta_func/ta_CEIL.c\n",
            "ta-lib/src/ta_func/ta_TRIMA.c\n",
            "ta-lib/src/ta_func/ta_CDLSEPARATINGLINES.c\n",
            "ta-lib/src/ta_func/ta_ROCP.c\n",
            "ta-lib/src/ta_func/ta_CDLHOMINGPIGEON.c\n",
            "ta-lib/src/ta_func/ta_CDLHANGINGMAN.c\n",
            "ta-lib/src/ta_func/ta_AVGPRICE.c\n",
            "ta-lib/src/ta_func/ta_APO.c\n",
            "ta-lib/src/ta_func/ta_CDLRISEFALL3METHODS.c\n",
            "ta-lib/src/ta_func/ta_TRANGE.c\n",
            "ta-lib/src/ta_func/ta_TSF.c\n",
            "ta-lib/src/ta_func/ta_LINEARREG.c\n",
            "ta-lib/src/ta_func/ta_PVI.c\n",
            "ta-lib/src/ta_func/ta_CDLHIKKAKEMOD.c\n",
            "ta-lib/src/ta_func/ta_MFI.c\n",
            "ta-lib/src/ta_func/ta_CDLHARAMI.c\n",
            "ta-lib/src/ta_func/ta_MACD.c\n",
            "ta-lib/src/ta_func/ta_BETA.c\n",
            "ta-lib/src/ta_func/ta_CDLINVERTEDHAMMER.c\n",
            "ta-lib/src/ta_func/ta_LINEARREG_SLOPE.c\n",
            "ta-lib/src/ta_func/ta_STOCHF.c\n",
            "ta-lib/src/ta_func/ta_MIN.c\n",
            "ta-lib/src/ta_func/ta_CDLIDENTICAL3CROWS.c\n",
            "ta-lib/src/ta_func/ta_CDLRICKSHAWMAN.c\n",
            "ta-lib/src/ta_func/ta_T3.c\n",
            "ta-lib/src/ta_func/ta_CDLMATHOLD.c\n",
            "ta-lib/src/ta_func/ta_CDLUNIQUE3RIVER.c\n",
            "ta-lib/src/ta_func/ta_ADOSC.c\n",
            "ta-lib/src/ta_func/ta_MAXINDEX.c\n",
            "ta-lib/src/ta_func/ta_ULTOSC.c\n",
            "ta-lib/src/ta_func/ta_TRIX.c\n",
            "ta-lib/src/ta_func/ta_MOM.c\n",
            "ta-lib/src/ta_func/ta_CDLDOJI.c\n",
            "ta-lib/src/ta_func/ta_EMA.c\n",
            "ta-lib/src/ta_func/ta_STOCHRSI.c\n",
            "ta-lib/src/ta_func/ta_ROC.c\n",
            "ta-lib/src/ta_func/ta_CDLEVENINGSTAR.c\n",
            "ta-lib/src/ta_func/ta_CDLCOUNTERATTACK.c\n",
            "ta-lib/src/ta_func/ta_LINEARREG_INTERCEPT.c\n",
            "ta-lib/src/ta_func/ta_SAREXT.c\n",
            "ta-lib/src/ta_func/ta_WILLR.c\n",
            "ta-lib/src/ta_func/ta_MULT.c\n",
            "ta-lib/src/ta_func/ta_ATR.c\n",
            "ta-lib/src/ta_func/ta_BOP.c\n",
            "ta-lib/src/ta_func/ta_CMO.c\n",
            "ta-lib/src/ta_func/ta_CDLONNECK.c\n",
            "ta-lib/src/ta_func/ta_CCI.c\n",
            "ta-lib/src/ta_func/ta_CDLLADDERBOTTOM.c\n",
            "ta-lib/src/ta_func/ta_HT_PHASOR.c\n",
            "ta-lib/src/ta_func/ta_utility.c\n",
            "ta-lib/src/ta_func/ta_PPO.c\n",
            "ta-lib/src/ta_func/ta_CDLHIKKAKE.c\n",
            "ta-lib/src/ta_func/ta_HT_DCPERIOD.c\n",
            "ta-lib/src/ta_func/ta_CDL3LINESTRIKE.c\n",
            "ta-lib/src/ta_func/ta_TEMA.c\n",
            "ta-lib/src/ta_func/ta_SIN.c\n",
            "ta-lib/src/ta_func/ta_MINUS_DI.c\n",
            "ta-lib/src/ta_func/ta_KAMA.c\n",
            "ta-lib/src/ta_func/ta_TANH.c\n",
            "ta-lib/src/ta_func/ta_CDLTAKURI.c\n",
            "ta-lib/src/ta_func/ta_CDLGRAVESTONEDOJI.c\n",
            "ta-lib/src/ta_common/\n",
            "ta-lib/src/ta_common/ta_pragma.h\n",
            "ta-lib/src/ta_common/ta_magic_nb.h\n",
            "ta-lib/src/ta_common/ta_retcode.csv\n",
            "ta-lib/src/ta_common/Makefile.in\n",
            "ta-lib/src/ta_common/Makefile.am\n",
            "ta-lib/src/ta_common/ta_memory.h\n",
            "ta-lib/src/ta_common/ta_version.c\n",
            "ta-lib/src/ta_common/ta_global.h\n",
            "ta-lib/src/ta_common/ta_global.c\n",
            "ta-lib/src/ta_common/ta_retcode.c\n",
            "ta-lib/src/Makefile.in\n",
            "ta-lib/src/ta_abstract/\n",
            "ta-lib/src/ta_abstract/frames/\n",
            "ta-lib/src/ta_abstract/frames/ta_frame.c\n",
            "ta-lib/src/ta_abstract/frames/ta_frame.h\n",
            "ta-lib/src/ta_abstract/excel_glue.c\n",
            "ta-lib/src/ta_abstract/ta_frame_priv.h\n",
            "ta-lib/src/ta_abstract/ta_func_api.c\n",
            "ta-lib/src/ta_abstract/Makefile.in\n",
            "ta-lib/src/ta_abstract/ta_def_ui.h\n",
            "ta-lib/src/ta_abstract/Makefile.am\n",
            "ta-lib/src/ta_abstract/ta_abstract.c\n",
            "ta-lib/src/ta_abstract/ta_group_idx.c\n",
            "ta-lib/src/ta_abstract/tables/\n",
            "ta-lib/src/ta_abstract/tables/table_u.c\n",
            "ta-lib/src/ta_abstract/tables/table_x.c\n",
            "ta-lib/src/ta_abstract/tables/table_r.c\n",
            "ta-lib/src/ta_abstract/tables/table_f.c\n",
            "ta-lib/src/ta_abstract/tables/table_j.c\n",
            "ta-lib/src/ta_abstract/tables/table_e.c\n",
            "ta-lib/src/ta_abstract/tables/table_t.c\n",
            "ta-lib/src/ta_abstract/tables/table_n.c\n",
            "ta-lib/src/ta_abstract/tables/table_i.c\n",
            "ta-lib/src/ta_abstract/tables/table_c.c\n",
            "ta-lib/src/ta_abstract/tables/table_l.c\n",
            "ta-lib/src/ta_abstract/tables/table_k.c\n",
            "ta-lib/src/ta_abstract/tables/table_g.c\n",
            "ta-lib/src/ta_abstract/tables/table_d.c\n",
            "ta-lib/src/ta_abstract/tables/table_h.c\n",
            "ta-lib/src/ta_abstract/tables/table_o.c\n",
            "ta-lib/src/ta_abstract/tables/table_b.c\n",
            "ta-lib/src/ta_abstract/tables/table_q.c\n",
            "ta-lib/src/ta_abstract/tables/table_v.c\n",
            "ta-lib/src/ta_abstract/tables/table_m.c\n",
            "ta-lib/src/ta_abstract/tables/table_s.c\n",
            "ta-lib/src/ta_abstract/tables/table_y.c\n",
            "ta-lib/src/ta_abstract/tables/table_p.c\n",
            "ta-lib/src/ta_abstract/tables/table_z.c\n",
            "ta-lib/src/ta_abstract/tables/table_a.c\n",
            "ta-lib/src/ta_abstract/tables/table_w.c\n",
            "ta-lib/src/ta_abstract/ta_def_ui.c\n",
            "ta-lib/src/ta_abstract/templates/\n",
            "ta-lib/src/ta_abstract/templates/ta_x.c.template\n",
            "ta-lib/src/ta_abstract/templates/ta_java_defs.h.template\n",
            "ta-lib/src/ta_abstract/templates/excel_glue.c.template\n",
            "ta-lib/src/ta_abstract/templates/ta_group_idx.c.template\n",
            "ta-lib/src/ta_abstract/templates/ta_frame.c.template\n",
            "ta-lib/src/ta_abstract/templates/CoreAnnotated.java.template\n",
            "ta-lib/src/ta_abstract/templates/ta_func.h.template\n",
            "ta-lib/src/ta_abstract/templates/ta_frame.h.template\n",
            "ta-lib/src/ta_abstract/templates/Makefile.am.template\n",
            "ta-lib/src/ta_abstract/templates/ta_func_api.c.template\n",
            "ta-lib/src/ta_abstract/templates/ta_func.swg.template\n",
            "ta-lib/src/ta_abstract/templates/ta_retcode.c.template\n",
            "ta-lib/src/ta_abstract/ta_java_defs.h\n",
            "ta-lib/src/Makefile.am\n",
            "ta-lib/src/tools/\n",
            "ta-lib/src/tools/ta_regtest/\n",
            "ta-lib/src/tools/ta_regtest/test_util.c\n",
            "ta-lib/src/tools/ta_regtest/ta_test_func.h\n",
            "ta-lib/src/tools/ta_regtest/test_data.c\n",
            "ta-lib/src/tools/ta_regtest/ta_gDataHigh.c\n",
            "ta-lib/src/tools/ta_regtest/Makefile.in\n",
            "ta-lib/src/tools/ta_regtest/test_internals.c\n",
            "ta-lib/src/tools/ta_regtest/Makefile.am\n",
            "ta-lib/src/tools/ta_regtest/ta_regtest.c\n",
            "ta-lib/src/tools/ta_regtest/ta_gDataOpen.c\n",
            "ta-lib/src/tools/ta_regtest/ta_gDataClose.c\n",
            "ta-lib/src/tools/ta_regtest/test_abstract.c\n",
            "ta-lib/src/tools/ta_regtest/ta_test_func/\n",
            "ta-lib/src/tools/ta_regtest/ta_test_func/test_bbands.c\n",
            "ta-lib/src/tools/ta_regtest/ta_test_func/test_stddev.c\n",
            "ta-lib/src/tools/ta_regtest/ta_test_func/test_1in_2out.c\n",
            "ta-lib/src/tools/ta_regtest/ta_test_func/test_sar.c\n",
            "ta-lib/src/tools/ta_regtest/ta_test_func/test_1in_1out.c\n",
            "ta-lib/src/tools/ta_regtest/ta_test_func/test_trange.c\n",
            "ta-lib/src/tools/ta_regtest/ta_test_func/test_macd.c\n",
            "ta-lib/src/tools/ta_regtest/ta_test_func/test_po.c\n",
            "ta-lib/src/tools/ta_regtest/ta_test_func/test_per_hlc.c\n",
            "ta-lib/src/tools/ta_regtest/ta_test_func/test_mom.c\n",
            "ta-lib/src/tools/ta_regtest/ta_test_func/test_per_ohlc.c\n",
            "ta-lib/src/tools/ta_regtest/ta_test_func/test_adx.c\n",
            "ta-lib/src/tools/ta_regtest/ta_test_func/test_candlestick.c\n",
            "ta-lib/src/tools/ta_regtest/ta_test_func/test_rsi.c\n",
            "ta-lib/src/tools/ta_regtest/ta_test_func/test_per_ema.c\n",
            "ta-lib/src/tools/ta_regtest/ta_test_func/test_minmax.c\n",
            "ta-lib/src/tools/ta_regtest/ta_test_func/test_per_hlcv.c\n",
            "ta-lib/src/tools/ta_regtest/ta_test_func/test_per_hl.c\n",
            "ta-lib/src/tools/ta_regtest/ta_test_func/test_stoch.c\n",
            "ta-lib/src/tools/ta_regtest/ta_test_func/test_ma.c\n",
            "ta-lib/src/tools/ta_regtest/ta_error_number.h\n",
            "ta-lib/src/tools/ta_regtest/ta_test_priv.h\n",
            "ta-lib/src/tools/ta_regtest/ReadMe.txt\n",
            "ta-lib/src/tools/ta_regtest/ta_gDataLow.c\n",
            "ta-lib/src/tools/Makefile.in\n",
            "ta-lib/src/tools/Makefile.am\n",
            "ta-lib/src/tools/gen_code/\n",
            "ta-lib/src/tools/gen_code/java/\n",
            "ta-lib/src/tools/gen_code/java/PrettyCode.java\n",
            "ta-lib/src/tools/gen_code/java/Main.java\n",
            "ta-lib/src/tools/gen_code/gen_code.c\n",
            "ta-lib/src/tools/gen_code/Makefile.in\n",
            "ta-lib/src/tools/gen_code/Makefile.am\n",
            "ta-lib/src/tools/gen_code/mcpp.exe\n",
            "/content/ta-lib\n",
            "checking for a BSD-compatible install... /usr/bin/install -c\n",
            "checking whether build environment is sane... yes\n",
            "checking for a thread-safe mkdir -p... /usr/bin/mkdir -p\n",
            "checking for gawk... no\n",
            "checking for mawk... mawk\n",
            "checking whether make sets $(MAKE)... yes\n",
            "checking for gcc... gcc\n",
            "checking for C compiler default output file name... a.out\n",
            "checking whether the C compiler works... yes\n",
            "checking whether we are cross compiling... no\n",
            "checking for suffix of executables... \n",
            "checking for suffix of object files... o\n",
            "checking whether we are using the GNU C compiler... yes\n",
            "checking whether gcc accepts -g... yes\n",
            "checking for gcc option to accept ISO C89... none needed\n",
            "checking for style of include used by make... GNU\n",
            "checking dependency style of gcc... gcc3\n",
            "checking build system type... x86_64-unknown-linux-gnu\n",
            "checking host system type... x86_64-unknown-linux-gnu\n",
            "checking for a sed that does not truncate output... /usr/bin/sed\n",
            "checking for grep that handles long lines and -e... /usr/bin/grep\n",
            "checking for egrep... /usr/bin/grep -E\n",
            "checking for ld used by gcc... /usr/bin/ld\n",
            "checking if the linker (/usr/bin/ld) is GNU ld... yes\n",
            "checking for /usr/bin/ld option to reload object files... -r\n",
            "checking for BSD-compatible nm... /usr/bin/nm -B\n",
            "checking whether ln -s works... yes\n",
            "checking how to recognise dependent libraries... pass_all\n",
            "checking how to run the C preprocessor... gcc -E\n",
            "checking for ANSI C header files... yes\n",
            "checking for sys/types.h... yes\n",
            "checking for sys/stat.h... yes\n",
            "checking for stdlib.h... yes\n",
            "checking for string.h... yes\n",
            "make: *** No targets specified and no makefile found.  Stop.\n",
            "make: *** No rule to make target 'install'.  Stop.\n",
            "Collecting Ta-Lib\n",
            "  Downloading TA-Lib-0.4.32.tar.gz (368 kB)\n",
            "\u001b[2K     \u001b[90m━━━━━━━━━━━━━━━━━━━━━━━━━━━━━━━━━━━━━━━━\u001b[0m \u001b[32m368.5/368.5 kB\u001b[0m \u001b[31m6.2 MB/s\u001b[0m eta \u001b[36m0:00:00\u001b[0m\n",
            "\u001b[?25h  Installing build dependencies ... \u001b[?25l\u001b[?25hcanceled\u001b[31mERROR: Operation cancelled by user\u001b[0m\u001b[31m\n",
            "\u001b[0m"
          ]
        },
        {
          "output_type": "error",
          "ename": "ModuleNotFoundError",
          "evalue": "No module named 'talib'",
          "traceback": [
            "\u001b[0;31m---------------------------------------------------------------------------\u001b[0m",
            "\u001b[0;31mModuleNotFoundError\u001b[0m                       Traceback (most recent call last)",
            "\u001b[0;32m<ipython-input-4-e564c1928385>\u001b[0m in \u001b[0;36m<cell line: 8>\u001b[0;34m()\u001b[0m\n\u001b[1;32m      6\u001b[0m \u001b[0mget_ipython\u001b[0m\u001b[0;34m(\u001b[0m\u001b[0;34m)\u001b[0m\u001b[0;34m.\u001b[0m\u001b[0msystem\u001b[0m\u001b[0;34m(\u001b[0m\u001b[0;34m'make install'\u001b[0m\u001b[0;34m)\u001b[0m\u001b[0;34m\u001b[0m\u001b[0;34m\u001b[0m\u001b[0m\n\u001b[1;32m      7\u001b[0m \u001b[0mget_ipython\u001b[0m\u001b[0;34m(\u001b[0m\u001b[0;34m)\u001b[0m\u001b[0;34m.\u001b[0m\u001b[0msystem\u001b[0m\u001b[0;34m(\u001b[0m\u001b[0;34m'pip install Ta-Lib'\u001b[0m\u001b[0;34m)\u001b[0m\u001b[0;34m\u001b[0m\u001b[0;34m\u001b[0m\u001b[0m\n\u001b[0;32m----> 8\u001b[0;31m \u001b[0;32mimport\u001b[0m \u001b[0mtalib\u001b[0m\u001b[0;34m\u001b[0m\u001b[0;34m\u001b[0m\u001b[0m\n\u001b[0m",
            "\u001b[0;31mModuleNotFoundError\u001b[0m: No module named 'talib'",
            "",
            "\u001b[0;31m---------------------------------------------------------------------------\u001b[0;32m\nNOTE: If your import is failing due to a missing package, you can\nmanually install dependencies using either !pip or !apt.\n\nTo view examples of installing some common dependencies, click the\n\"Open Examples\" button below.\n\u001b[0;31m---------------------------------------------------------------------------\u001b[0m\n"
          ],
          "errorDetails": {
            "actions": [
              {
                "action": "open_url",
                "actionText": "Open Examples",
                "url": "/notebooks/snippets/importing_libraries.ipynb"
              }
            ]
          }
        }
      ],
      "source": [
        "!wget http://prdownloads.sourceforge.net/ta-lib/ta-lib-0.4.0-src.tar.gz\n",
        "!tar -xzvf ta-lib-0.4.0-src.tar.gz\n",
        "%cd ta-lib\n",
        "!./configure --prefix=/usr\n",
        "!make\n",
        "!make install\n",
        "!pip install Ta-Lib\n",
        "import talib"
      ]
    },
    {
      "cell_type": "code",
      "source": [
        "# or just install the binary package\n",
        "!pip install ta-lib-bin"
      ],
      "metadata": {
        "id": "sFbsNQ1JIiK7",
        "colab": {
          "base_uri": "https://localhost:8080/"
        },
        "outputId": "89a9b571-9160-42c1-9d0a-045fb199f8e9"
      },
      "execution_count": null,
      "outputs": [
        {
          "output_type": "stream",
          "name": "stdout",
          "text": [
            "Collecting ta-lib-bin\n",
            "  Downloading ta_lib_bin-0.4.26-cp310-cp310-manylinux_2_17_x86_64.manylinux2014_x86_64.whl.metadata (19 kB)\n",
            "Requirement already satisfied: numpy in /usr/local/lib/python3.10/dist-packages (from ta-lib-bin) (1.26.4)\n",
            "Downloading ta_lib_bin-0.4.26-cp310-cp310-manylinux_2_17_x86_64.manylinux2014_x86_64.whl (2.9 MB)\n",
            "\u001b[2K   \u001b[90m━━━━━━━━━━━━━━━━━━━━━━━━━━━━━━━━━━━━━━━━\u001b[0m \u001b[32m2.9/2.9 MB\u001b[0m \u001b[31m21.7 MB/s\u001b[0m eta \u001b[36m0:00:00\u001b[0m\n",
            "\u001b[?25hInstalling collected packages: ta-lib-bin\n",
            "Successfully installed ta-lib-bin-0.4.26\n"
          ]
        }
      ]
    },
    {
      "cell_type": "code",
      "source": [
        "!ls /usr/local/lib/python3.10/dist-packages/talib"
      ],
      "metadata": {
        "id": "MpNXrMyXT2ac",
        "colab": {
          "base_uri": "https://localhost:8080/"
        },
        "outputId": "6ae0748b-c80c-43df-9202-980690331169"
      },
      "execution_count": null,
      "outputs": [
        {
          "output_type": "stream",
          "name": "stdout",
          "text": [
            "abstract.py    __pycache__\t\t\t\ttest_abstract.py  test_pandas.py\n",
            "deprecated.py  stream.py\t\t\t\ttest_data.py\t  test_polars.py\n",
            "__init__.py    _ta_lib.cpython-310-x86_64-linux-gnu.so\ttest_func.py\t  test_stream.py\n"
          ]
        }
      ]
    },
    {
      "cell_type": "code",
      "source": [
        "import yfinance as yf\n",
        "import talib\n",
        "import matplotlib.pyplot as plt"
      ],
      "metadata": {
        "id": "mMjUWJ2v2_M1"
      },
      "execution_count": null,
      "outputs": []
    },
    {
      "cell_type": "code",
      "source": [
        "ticker='IONQ'\n",
        "begin='2024-01-01'\n",
        "df = yf.download(ticker, begin)"
      ],
      "metadata": {
        "id": "YsCNngaY2Vbf",
        "colab": {
          "base_uri": "https://localhost:8080/"
        },
        "outputId": "3bc46fbe-ccf7-4519-d33c-5f9f51577f22"
      },
      "execution_count": null,
      "outputs": [
        {
          "output_type": "stream",
          "name": "stderr",
          "text": [
            "\r[*********************100%%**********************]  1 of 1 completed\n"
          ]
        }
      ]
    },
    {
      "cell_type": "code",
      "source": [
        "#      list first 5 elements\n",
        "df.head(2)\n"
      ],
      "metadata": {
        "id": "x3YQVYoDUfHQ",
        "colab": {
          "base_uri": "https://localhost:8080/",
          "height": 143
        },
        "outputId": "b4d1f3de-1668-457b-c990-8e811cc8d922"
      },
      "execution_count": null,
      "outputs": [
        {
          "output_type": "execute_result",
          "data": {
            "text/plain": [
              "             Open   High    Low  Close  Adj Close   Volume\n",
              "Date                                                      \n",
              "2024-01-02  12.35  12.59  12.10  12.16      12.16  5951100\n",
              "2024-01-03  11.81  12.09  11.77  11.93      11.93  6225700"
            ],
            "text/html": [
              "\n",
              "  <div id=\"df-920a7bfd-bf23-4953-880d-27130130a85f\" class=\"colab-df-container\">\n",
              "    <div>\n",
              "<style scoped>\n",
              "    .dataframe tbody tr th:only-of-type {\n",
              "        vertical-align: middle;\n",
              "    }\n",
              "\n",
              "    .dataframe tbody tr th {\n",
              "        vertical-align: top;\n",
              "    }\n",
              "\n",
              "    .dataframe thead th {\n",
              "        text-align: right;\n",
              "    }\n",
              "</style>\n",
              "<table border=\"1\" class=\"dataframe\">\n",
              "  <thead>\n",
              "    <tr style=\"text-align: right;\">\n",
              "      <th></th>\n",
              "      <th>Open</th>\n",
              "      <th>High</th>\n",
              "      <th>Low</th>\n",
              "      <th>Close</th>\n",
              "      <th>Adj Close</th>\n",
              "      <th>Volume</th>\n",
              "    </tr>\n",
              "    <tr>\n",
              "      <th>Date</th>\n",
              "      <th></th>\n",
              "      <th></th>\n",
              "      <th></th>\n",
              "      <th></th>\n",
              "      <th></th>\n",
              "      <th></th>\n",
              "    </tr>\n",
              "  </thead>\n",
              "  <tbody>\n",
              "    <tr>\n",
              "      <th>2024-01-02</th>\n",
              "      <td>12.35</td>\n",
              "      <td>12.59</td>\n",
              "      <td>12.10</td>\n",
              "      <td>12.16</td>\n",
              "      <td>12.16</td>\n",
              "      <td>5951100</td>\n",
              "    </tr>\n",
              "    <tr>\n",
              "      <th>2024-01-03</th>\n",
              "      <td>11.81</td>\n",
              "      <td>12.09</td>\n",
              "      <td>11.77</td>\n",
              "      <td>11.93</td>\n",
              "      <td>11.93</td>\n",
              "      <td>6225700</td>\n",
              "    </tr>\n",
              "  </tbody>\n",
              "</table>\n",
              "</div>\n",
              "    <div class=\"colab-df-buttons\">\n",
              "\n",
              "  <div class=\"colab-df-container\">\n",
              "    <button class=\"colab-df-convert\" onclick=\"convertToInteractive('df-920a7bfd-bf23-4953-880d-27130130a85f')\"\n",
              "            title=\"Convert this dataframe to an interactive table.\"\n",
              "            style=\"display:none;\">\n",
              "\n",
              "  <svg xmlns=\"http://www.w3.org/2000/svg\" height=\"24px\" viewBox=\"0 -960 960 960\">\n",
              "    <path d=\"M120-120v-720h720v720H120Zm60-500h600v-160H180v160Zm220 220h160v-160H400v160Zm0 220h160v-160H400v160ZM180-400h160v-160H180v160Zm440 0h160v-160H620v160ZM180-180h160v-160H180v160Zm440 0h160v-160H620v160Z\"/>\n",
              "  </svg>\n",
              "    </button>\n",
              "\n",
              "  <style>\n",
              "    .colab-df-container {\n",
              "      display:flex;\n",
              "      gap: 12px;\n",
              "    }\n",
              "\n",
              "    .colab-df-convert {\n",
              "      background-color: #E8F0FE;\n",
              "      border: none;\n",
              "      border-radius: 50%;\n",
              "      cursor: pointer;\n",
              "      display: none;\n",
              "      fill: #1967D2;\n",
              "      height: 32px;\n",
              "      padding: 0 0 0 0;\n",
              "      width: 32px;\n",
              "    }\n",
              "\n",
              "    .colab-df-convert:hover {\n",
              "      background-color: #E2EBFA;\n",
              "      box-shadow: 0px 1px 2px rgba(60, 64, 67, 0.3), 0px 1px 3px 1px rgba(60, 64, 67, 0.15);\n",
              "      fill: #174EA6;\n",
              "    }\n",
              "\n",
              "    .colab-df-buttons div {\n",
              "      margin-bottom: 4px;\n",
              "    }\n",
              "\n",
              "    [theme=dark] .colab-df-convert {\n",
              "      background-color: #3B4455;\n",
              "      fill: #D2E3FC;\n",
              "    }\n",
              "\n",
              "    [theme=dark] .colab-df-convert:hover {\n",
              "      background-color: #434B5C;\n",
              "      box-shadow: 0px 1px 3px 1px rgba(0, 0, 0, 0.15);\n",
              "      filter: drop-shadow(0px 1px 2px rgba(0, 0, 0, 0.3));\n",
              "      fill: #FFFFFF;\n",
              "    }\n",
              "  </style>\n",
              "\n",
              "    <script>\n",
              "      const buttonEl =\n",
              "        document.querySelector('#df-920a7bfd-bf23-4953-880d-27130130a85f button.colab-df-convert');\n",
              "      buttonEl.style.display =\n",
              "        google.colab.kernel.accessAllowed ? 'block' : 'none';\n",
              "\n",
              "      async function convertToInteractive(key) {\n",
              "        const element = document.querySelector('#df-920a7bfd-bf23-4953-880d-27130130a85f');\n",
              "        const dataTable =\n",
              "          await google.colab.kernel.invokeFunction('convertToInteractive',\n",
              "                                                    [key], {});\n",
              "        if (!dataTable) return;\n",
              "\n",
              "        const docLinkHtml = 'Like what you see? Visit the ' +\n",
              "          '<a target=\"_blank\" href=https://colab.research.google.com/notebooks/data_table.ipynb>data table notebook</a>'\n",
              "          + ' to learn more about interactive tables.';\n",
              "        element.innerHTML = '';\n",
              "        dataTable['output_type'] = 'display_data';\n",
              "        await google.colab.output.renderOutput(dataTable, element);\n",
              "        const docLink = document.createElement('div');\n",
              "        docLink.innerHTML = docLinkHtml;\n",
              "        element.appendChild(docLink);\n",
              "      }\n",
              "    </script>\n",
              "  </div>\n",
              "\n",
              "\n",
              "<div id=\"df-e2ef5cff-2b28-48e2-a895-5b6aa8748d62\">\n",
              "  <button class=\"colab-df-quickchart\" onclick=\"quickchart('df-e2ef5cff-2b28-48e2-a895-5b6aa8748d62')\"\n",
              "            title=\"Suggest charts\"\n",
              "            style=\"display:none;\">\n",
              "\n",
              "<svg xmlns=\"http://www.w3.org/2000/svg\" height=\"24px\"viewBox=\"0 0 24 24\"\n",
              "     width=\"24px\">\n",
              "    <g>\n",
              "        <path d=\"M19 3H5c-1.1 0-2 .9-2 2v14c0 1.1.9 2 2 2h14c1.1 0 2-.9 2-2V5c0-1.1-.9-2-2-2zM9 17H7v-7h2v7zm4 0h-2V7h2v10zm4 0h-2v-4h2v4z\"/>\n",
              "    </g>\n",
              "</svg>\n",
              "  </button>\n",
              "\n",
              "<style>\n",
              "  .colab-df-quickchart {\n",
              "      --bg-color: #E8F0FE;\n",
              "      --fill-color: #1967D2;\n",
              "      --hover-bg-color: #E2EBFA;\n",
              "      --hover-fill-color: #174EA6;\n",
              "      --disabled-fill-color: #AAA;\n",
              "      --disabled-bg-color: #DDD;\n",
              "  }\n",
              "\n",
              "  [theme=dark] .colab-df-quickchart {\n",
              "      --bg-color: #3B4455;\n",
              "      --fill-color: #D2E3FC;\n",
              "      --hover-bg-color: #434B5C;\n",
              "      --hover-fill-color: #FFFFFF;\n",
              "      --disabled-bg-color: #3B4455;\n",
              "      --disabled-fill-color: #666;\n",
              "  }\n",
              "\n",
              "  .colab-df-quickchart {\n",
              "    background-color: var(--bg-color);\n",
              "    border: none;\n",
              "    border-radius: 50%;\n",
              "    cursor: pointer;\n",
              "    display: none;\n",
              "    fill: var(--fill-color);\n",
              "    height: 32px;\n",
              "    padding: 0;\n",
              "    width: 32px;\n",
              "  }\n",
              "\n",
              "  .colab-df-quickchart:hover {\n",
              "    background-color: var(--hover-bg-color);\n",
              "    box-shadow: 0 1px 2px rgba(60, 64, 67, 0.3), 0 1px 3px 1px rgba(60, 64, 67, 0.15);\n",
              "    fill: var(--button-hover-fill-color);\n",
              "  }\n",
              "\n",
              "  .colab-df-quickchart-complete:disabled,\n",
              "  .colab-df-quickchart-complete:disabled:hover {\n",
              "    background-color: var(--disabled-bg-color);\n",
              "    fill: var(--disabled-fill-color);\n",
              "    box-shadow: none;\n",
              "  }\n",
              "\n",
              "  .colab-df-spinner {\n",
              "    border: 2px solid var(--fill-color);\n",
              "    border-color: transparent;\n",
              "    border-bottom-color: var(--fill-color);\n",
              "    animation:\n",
              "      spin 1s steps(1) infinite;\n",
              "  }\n",
              "\n",
              "  @keyframes spin {\n",
              "    0% {\n",
              "      border-color: transparent;\n",
              "      border-bottom-color: var(--fill-color);\n",
              "      border-left-color: var(--fill-color);\n",
              "    }\n",
              "    20% {\n",
              "      border-color: transparent;\n",
              "      border-left-color: var(--fill-color);\n",
              "      border-top-color: var(--fill-color);\n",
              "    }\n",
              "    30% {\n",
              "      border-color: transparent;\n",
              "      border-left-color: var(--fill-color);\n",
              "      border-top-color: var(--fill-color);\n",
              "      border-right-color: var(--fill-color);\n",
              "    }\n",
              "    40% {\n",
              "      border-color: transparent;\n",
              "      border-right-color: var(--fill-color);\n",
              "      border-top-color: var(--fill-color);\n",
              "    }\n",
              "    60% {\n",
              "      border-color: transparent;\n",
              "      border-right-color: var(--fill-color);\n",
              "    }\n",
              "    80% {\n",
              "      border-color: transparent;\n",
              "      border-right-color: var(--fill-color);\n",
              "      border-bottom-color: var(--fill-color);\n",
              "    }\n",
              "    90% {\n",
              "      border-color: transparent;\n",
              "      border-bottom-color: var(--fill-color);\n",
              "    }\n",
              "  }\n",
              "</style>\n",
              "\n",
              "  <script>\n",
              "    async function quickchart(key) {\n",
              "      const quickchartButtonEl =\n",
              "        document.querySelector('#' + key + ' button');\n",
              "      quickchartButtonEl.disabled = true;  // To prevent multiple clicks.\n",
              "      quickchartButtonEl.classList.add('colab-df-spinner');\n",
              "      try {\n",
              "        const charts = await google.colab.kernel.invokeFunction(\n",
              "            'suggestCharts', [key], {});\n",
              "      } catch (error) {\n",
              "        console.error('Error during call to suggestCharts:', error);\n",
              "      }\n",
              "      quickchartButtonEl.classList.remove('colab-df-spinner');\n",
              "      quickchartButtonEl.classList.add('colab-df-quickchart-complete');\n",
              "    }\n",
              "    (() => {\n",
              "      let quickchartButtonEl =\n",
              "        document.querySelector('#df-e2ef5cff-2b28-48e2-a895-5b6aa8748d62 button');\n",
              "      quickchartButtonEl.style.display =\n",
              "        google.colab.kernel.accessAllowed ? 'block' : 'none';\n",
              "    })();\n",
              "  </script>\n",
              "</div>\n",
              "\n",
              "    </div>\n",
              "  </div>\n"
            ],
            "application/vnd.google.colaboratory.intrinsic+json": {
              "type": "dataframe",
              "variable_name": "df",
              "summary": "{\n  \"name\": \"df\",\n  \"rows\": 146,\n  \"fields\": [\n    {\n      \"column\": \"Date\",\n      \"properties\": {\n        \"dtype\": \"date\",\n        \"min\": \"2024-01-02 00:00:00\",\n        \"max\": \"2024-07-31 00:00:00\",\n        \"num_unique_values\": 146,\n        \"samples\": [\n          \"2024-03-07 00:00:00\",\n          \"2024-05-21 00:00:00\",\n          \"2024-02-09 00:00:00\"\n        ],\n        \"semantic_type\": \"\",\n        \"description\": \"\"\n      }\n    },\n    {\n      \"column\": \"Open\",\n      \"properties\": {\n        \"dtype\": \"number\",\n        \"std\": 1.533468531908707,\n        \"min\": 6.630000114440918,\n        \"max\": 12.460000038146973,\n        \"num_unique_values\": 134,\n        \"samples\": [\n          7.96999979019165,\n          9.270000457763672,\n          7.590000152587891\n        ],\n        \"semantic_type\": \"\",\n        \"description\": \"\"\n      }\n    },\n    {\n      \"column\": \"High\",\n      \"properties\": {\n        \"dtype\": \"number\",\n        \"std\": 1.5560951281421638,\n        \"min\": 6.764999866485596,\n        \"max\": 12.729999542236328,\n        \"num_unique_values\": 138,\n        \"samples\": [\n          9.020000457763672,\n          8.305000305175781,\n          10.859999656677246\n        ],\n        \"semantic_type\": \"\",\n        \"description\": \"\"\n      }\n    },\n    {\n      \"column\": \"Low\",\n      \"properties\": {\n        \"dtype\": \"number\",\n        \"std\": 1.4606497295407748,\n        \"min\": 6.329999923706055,\n        \"max\": 12.170000076293945,\n        \"num_unique_values\": 128,\n        \"samples\": [\n          9.279999732971191,\n          10.175000190734863,\n          10.550000190734863\n        ],\n        \"semantic_type\": \"\",\n        \"description\": \"\"\n      }\n    },\n    {\n      \"column\": \"Close\",\n      \"properties\": {\n        \"dtype\": \"number\",\n        \"std\": 1.4952958781598198,\n        \"min\": 6.590000152587891,\n        \"max\": 12.640000343322754,\n        \"num_unique_values\": 127,\n        \"samples\": [\n          11.619999885559082,\n          7.139999866485596,\n          8.779999732971191\n        ],\n        \"semantic_type\": \"\",\n        \"description\": \"\"\n      }\n    },\n    {\n      \"column\": \"Adj Close\",\n      \"properties\": {\n        \"dtype\": \"number\",\n        \"std\": 1.4952958781598198,\n        \"min\": 6.590000152587891,\n        \"max\": 12.640000343322754,\n        \"num_unique_values\": 127,\n        \"samples\": [\n          11.619999885559082,\n          7.139999866485596,\n          8.779999732971191\n        ],\n        \"semantic_type\": \"\",\n        \"description\": \"\"\n      }\n    },\n    {\n      \"column\": \"Volume\",\n      \"properties\": {\n        \"dtype\": \"number\",\n        \"std\": 2940846,\n        \"min\": 2206100,\n        \"max\": 26317500,\n        \"num_unique_values\": 146,\n        \"samples\": [\n          12945000,\n          4747000,\n          5637300\n        ],\n        \"semantic_type\": \"\",\n        \"description\": \"\"\n      }\n    }\n  ]\n}"
            }
          },
          "metadata": {},
          "execution_count": 4
        }
      ]
    },
    {
      "cell_type": "code",
      "source": [
        "# Simple Moving Average, SMA\n",
        "# add 20 days moving average\n",
        "df[f'{ticker}_sma_22'] = talib.SMA(df['Close'].values, timeperiod=22)"
      ],
      "metadata": {
        "id": "c5Zdg_Jx2j2D"
      },
      "execution_count": null,
      "outputs": []
    },
    {
      "cell_type": "code",
      "source": [
        "df[f'{ticker}_sma_20'] = talib.SMA(df['Close'].values, timeperiod=20)"
      ],
      "metadata": {
        "id": "UP3FCWMxCnHs"
      },
      "execution_count": null,
      "outputs": []
    },
    {
      "cell_type": "code",
      "source": [
        "df[f'{ticker}_sma_5'] = talib.SMA(df['Close'].values, timeperiod=5)"
      ],
      "metadata": {
        "id": "c0rQU75I6U47"
      },
      "execution_count": null,
      "outputs": []
    },
    {
      "cell_type": "code",
      "source": [
        "df.tail()"
      ],
      "metadata": {
        "id": "dlxNB6cp3o9Y",
        "colab": {
          "base_uri": "https://localhost:8080/",
          "height": 238
        },
        "outputId": "6c1fc186-1899-4c92-bce1-23ef61f66ee9"
      },
      "execution_count": null,
      "outputs": [
        {
          "output_type": "execute_result",
          "data": {
            "text/plain": [
              "            Open   High   Low  Close  Adj Close   Volume  IONQ_sma_22  \\\n",
              "Date                                                                    \n",
              "2024-07-25  7.57  8.155  7.48   7.93       7.93  4338900     7.756364   \n",
              "2024-07-26  8.12  8.270  7.82   8.21       8.21  4307800     7.830000   \n",
              "2024-07-29  8.34  8.440  7.80   7.89       7.89  3420300     7.882727   \n",
              "2024-07-30  7.94  8.000  7.61   7.80       7.80  3040900     7.914545   \n",
              "2024-07-31  7.98  8.465  7.92   8.15       8.15  4199500     7.965455   \n",
              "\n",
              "            IONQ_sma_5  IONQ_sma_20  \n",
              "Date                                 \n",
              "2024-07-25       7.872       7.8660  \n",
              "2024-07-26       8.028       7.9215  \n",
              "2024-07-29       7.990       7.9645  \n",
              "2024-07-30       7.890       8.0125  \n",
              "2024-07-31       7.996       8.0630  "
            ],
            "text/html": [
              "\n",
              "  <div id=\"df-01aa1265-e115-41f6-b77d-24b60caaa9b3\" class=\"colab-df-container\">\n",
              "    <div>\n",
              "<style scoped>\n",
              "    .dataframe tbody tr th:only-of-type {\n",
              "        vertical-align: middle;\n",
              "    }\n",
              "\n",
              "    .dataframe tbody tr th {\n",
              "        vertical-align: top;\n",
              "    }\n",
              "\n",
              "    .dataframe thead th {\n",
              "        text-align: right;\n",
              "    }\n",
              "</style>\n",
              "<table border=\"1\" class=\"dataframe\">\n",
              "  <thead>\n",
              "    <tr style=\"text-align: right;\">\n",
              "      <th></th>\n",
              "      <th>Open</th>\n",
              "      <th>High</th>\n",
              "      <th>Low</th>\n",
              "      <th>Close</th>\n",
              "      <th>Adj Close</th>\n",
              "      <th>Volume</th>\n",
              "      <th>IONQ_sma_22</th>\n",
              "      <th>IONQ_sma_5</th>\n",
              "      <th>IONQ_sma_20</th>\n",
              "    </tr>\n",
              "    <tr>\n",
              "      <th>Date</th>\n",
              "      <th></th>\n",
              "      <th></th>\n",
              "      <th></th>\n",
              "      <th></th>\n",
              "      <th></th>\n",
              "      <th></th>\n",
              "      <th></th>\n",
              "      <th></th>\n",
              "      <th></th>\n",
              "    </tr>\n",
              "  </thead>\n",
              "  <tbody>\n",
              "    <tr>\n",
              "      <th>2024-07-25</th>\n",
              "      <td>7.57</td>\n",
              "      <td>8.155</td>\n",
              "      <td>7.48</td>\n",
              "      <td>7.93</td>\n",
              "      <td>7.93</td>\n",
              "      <td>4338900</td>\n",
              "      <td>7.756364</td>\n",
              "      <td>7.872</td>\n",
              "      <td>7.8660</td>\n",
              "    </tr>\n",
              "    <tr>\n",
              "      <th>2024-07-26</th>\n",
              "      <td>8.12</td>\n",
              "      <td>8.270</td>\n",
              "      <td>7.82</td>\n",
              "      <td>8.21</td>\n",
              "      <td>8.21</td>\n",
              "      <td>4307800</td>\n",
              "      <td>7.830000</td>\n",
              "      <td>8.028</td>\n",
              "      <td>7.9215</td>\n",
              "    </tr>\n",
              "    <tr>\n",
              "      <th>2024-07-29</th>\n",
              "      <td>8.34</td>\n",
              "      <td>8.440</td>\n",
              "      <td>7.80</td>\n",
              "      <td>7.89</td>\n",
              "      <td>7.89</td>\n",
              "      <td>3420300</td>\n",
              "      <td>7.882727</td>\n",
              "      <td>7.990</td>\n",
              "      <td>7.9645</td>\n",
              "    </tr>\n",
              "    <tr>\n",
              "      <th>2024-07-30</th>\n",
              "      <td>7.94</td>\n",
              "      <td>8.000</td>\n",
              "      <td>7.61</td>\n",
              "      <td>7.80</td>\n",
              "      <td>7.80</td>\n",
              "      <td>3040900</td>\n",
              "      <td>7.914545</td>\n",
              "      <td>7.890</td>\n",
              "      <td>8.0125</td>\n",
              "    </tr>\n",
              "    <tr>\n",
              "      <th>2024-07-31</th>\n",
              "      <td>7.98</td>\n",
              "      <td>8.465</td>\n",
              "      <td>7.92</td>\n",
              "      <td>8.15</td>\n",
              "      <td>8.15</td>\n",
              "      <td>4199500</td>\n",
              "      <td>7.965455</td>\n",
              "      <td>7.996</td>\n",
              "      <td>8.0630</td>\n",
              "    </tr>\n",
              "  </tbody>\n",
              "</table>\n",
              "</div>\n",
              "    <div class=\"colab-df-buttons\">\n",
              "\n",
              "  <div class=\"colab-df-container\">\n",
              "    <button class=\"colab-df-convert\" onclick=\"convertToInteractive('df-01aa1265-e115-41f6-b77d-24b60caaa9b3')\"\n",
              "            title=\"Convert this dataframe to an interactive table.\"\n",
              "            style=\"display:none;\">\n",
              "\n",
              "  <svg xmlns=\"http://www.w3.org/2000/svg\" height=\"24px\" viewBox=\"0 -960 960 960\">\n",
              "    <path d=\"M120-120v-720h720v720H120Zm60-500h600v-160H180v160Zm220 220h160v-160H400v160Zm0 220h160v-160H400v160ZM180-400h160v-160H180v160Zm440 0h160v-160H620v160ZM180-180h160v-160H180v160Zm440 0h160v-160H620v160Z\"/>\n",
              "  </svg>\n",
              "    </button>\n",
              "\n",
              "  <style>\n",
              "    .colab-df-container {\n",
              "      display:flex;\n",
              "      gap: 12px;\n",
              "    }\n",
              "\n",
              "    .colab-df-convert {\n",
              "      background-color: #E8F0FE;\n",
              "      border: none;\n",
              "      border-radius: 50%;\n",
              "      cursor: pointer;\n",
              "      display: none;\n",
              "      fill: #1967D2;\n",
              "      height: 32px;\n",
              "      padding: 0 0 0 0;\n",
              "      width: 32px;\n",
              "    }\n",
              "\n",
              "    .colab-df-convert:hover {\n",
              "      background-color: #E2EBFA;\n",
              "      box-shadow: 0px 1px 2px rgba(60, 64, 67, 0.3), 0px 1px 3px 1px rgba(60, 64, 67, 0.15);\n",
              "      fill: #174EA6;\n",
              "    }\n",
              "\n",
              "    .colab-df-buttons div {\n",
              "      margin-bottom: 4px;\n",
              "    }\n",
              "\n",
              "    [theme=dark] .colab-df-convert {\n",
              "      background-color: #3B4455;\n",
              "      fill: #D2E3FC;\n",
              "    }\n",
              "\n",
              "    [theme=dark] .colab-df-convert:hover {\n",
              "      background-color: #434B5C;\n",
              "      box-shadow: 0px 1px 3px 1px rgba(0, 0, 0, 0.15);\n",
              "      filter: drop-shadow(0px 1px 2px rgba(0, 0, 0, 0.3));\n",
              "      fill: #FFFFFF;\n",
              "    }\n",
              "  </style>\n",
              "\n",
              "    <script>\n",
              "      const buttonEl =\n",
              "        document.querySelector('#df-01aa1265-e115-41f6-b77d-24b60caaa9b3 button.colab-df-convert');\n",
              "      buttonEl.style.display =\n",
              "        google.colab.kernel.accessAllowed ? 'block' : 'none';\n",
              "\n",
              "      async function convertToInteractive(key) {\n",
              "        const element = document.querySelector('#df-01aa1265-e115-41f6-b77d-24b60caaa9b3');\n",
              "        const dataTable =\n",
              "          await google.colab.kernel.invokeFunction('convertToInteractive',\n",
              "                                                    [key], {});\n",
              "        if (!dataTable) return;\n",
              "\n",
              "        const docLinkHtml = 'Like what you see? Visit the ' +\n",
              "          '<a target=\"_blank\" href=https://colab.research.google.com/notebooks/data_table.ipynb>data table notebook</a>'\n",
              "          + ' to learn more about interactive tables.';\n",
              "        element.innerHTML = '';\n",
              "        dataTable['output_type'] = 'display_data';\n",
              "        await google.colab.output.renderOutput(dataTable, element);\n",
              "        const docLink = document.createElement('div');\n",
              "        docLink.innerHTML = docLinkHtml;\n",
              "        element.appendChild(docLink);\n",
              "      }\n",
              "    </script>\n",
              "  </div>\n",
              "\n",
              "\n",
              "<div id=\"df-e441df5c-174d-4b3a-b8da-e4f461a45142\">\n",
              "  <button class=\"colab-df-quickchart\" onclick=\"quickchart('df-e441df5c-174d-4b3a-b8da-e4f461a45142')\"\n",
              "            title=\"Suggest charts\"\n",
              "            style=\"display:none;\">\n",
              "\n",
              "<svg xmlns=\"http://www.w3.org/2000/svg\" height=\"24px\"viewBox=\"0 0 24 24\"\n",
              "     width=\"24px\">\n",
              "    <g>\n",
              "        <path d=\"M19 3H5c-1.1 0-2 .9-2 2v14c0 1.1.9 2 2 2h14c1.1 0 2-.9 2-2V5c0-1.1-.9-2-2-2zM9 17H7v-7h2v7zm4 0h-2V7h2v10zm4 0h-2v-4h2v4z\"/>\n",
              "    </g>\n",
              "</svg>\n",
              "  </button>\n",
              "\n",
              "<style>\n",
              "  .colab-df-quickchart {\n",
              "      --bg-color: #E8F0FE;\n",
              "      --fill-color: #1967D2;\n",
              "      --hover-bg-color: #E2EBFA;\n",
              "      --hover-fill-color: #174EA6;\n",
              "      --disabled-fill-color: #AAA;\n",
              "      --disabled-bg-color: #DDD;\n",
              "  }\n",
              "\n",
              "  [theme=dark] .colab-df-quickchart {\n",
              "      --bg-color: #3B4455;\n",
              "      --fill-color: #D2E3FC;\n",
              "      --hover-bg-color: #434B5C;\n",
              "      --hover-fill-color: #FFFFFF;\n",
              "      --disabled-bg-color: #3B4455;\n",
              "      --disabled-fill-color: #666;\n",
              "  }\n",
              "\n",
              "  .colab-df-quickchart {\n",
              "    background-color: var(--bg-color);\n",
              "    border: none;\n",
              "    border-radius: 50%;\n",
              "    cursor: pointer;\n",
              "    display: none;\n",
              "    fill: var(--fill-color);\n",
              "    height: 32px;\n",
              "    padding: 0;\n",
              "    width: 32px;\n",
              "  }\n",
              "\n",
              "  .colab-df-quickchart:hover {\n",
              "    background-color: var(--hover-bg-color);\n",
              "    box-shadow: 0 1px 2px rgba(60, 64, 67, 0.3), 0 1px 3px 1px rgba(60, 64, 67, 0.15);\n",
              "    fill: var(--button-hover-fill-color);\n",
              "  }\n",
              "\n",
              "  .colab-df-quickchart-complete:disabled,\n",
              "  .colab-df-quickchart-complete:disabled:hover {\n",
              "    background-color: var(--disabled-bg-color);\n",
              "    fill: var(--disabled-fill-color);\n",
              "    box-shadow: none;\n",
              "  }\n",
              "\n",
              "  .colab-df-spinner {\n",
              "    border: 2px solid var(--fill-color);\n",
              "    border-color: transparent;\n",
              "    border-bottom-color: var(--fill-color);\n",
              "    animation:\n",
              "      spin 1s steps(1) infinite;\n",
              "  }\n",
              "\n",
              "  @keyframes spin {\n",
              "    0% {\n",
              "      border-color: transparent;\n",
              "      border-bottom-color: var(--fill-color);\n",
              "      border-left-color: var(--fill-color);\n",
              "    }\n",
              "    20% {\n",
              "      border-color: transparent;\n",
              "      border-left-color: var(--fill-color);\n",
              "      border-top-color: var(--fill-color);\n",
              "    }\n",
              "    30% {\n",
              "      border-color: transparent;\n",
              "      border-left-color: var(--fill-color);\n",
              "      border-top-color: var(--fill-color);\n",
              "      border-right-color: var(--fill-color);\n",
              "    }\n",
              "    40% {\n",
              "      border-color: transparent;\n",
              "      border-right-color: var(--fill-color);\n",
              "      border-top-color: var(--fill-color);\n",
              "    }\n",
              "    60% {\n",
              "      border-color: transparent;\n",
              "      border-right-color: var(--fill-color);\n",
              "    }\n",
              "    80% {\n",
              "      border-color: transparent;\n",
              "      border-right-color: var(--fill-color);\n",
              "      border-bottom-color: var(--fill-color);\n",
              "    }\n",
              "    90% {\n",
              "      border-color: transparent;\n",
              "      border-bottom-color: var(--fill-color);\n",
              "    }\n",
              "  }\n",
              "</style>\n",
              "\n",
              "  <script>\n",
              "    async function quickchart(key) {\n",
              "      const quickchartButtonEl =\n",
              "        document.querySelector('#' + key + ' button');\n",
              "      quickchartButtonEl.disabled = true;  // To prevent multiple clicks.\n",
              "      quickchartButtonEl.classList.add('colab-df-spinner');\n",
              "      try {\n",
              "        const charts = await google.colab.kernel.invokeFunction(\n",
              "            'suggestCharts', [key], {});\n",
              "      } catch (error) {\n",
              "        console.error('Error during call to suggestCharts:', error);\n",
              "      }\n",
              "      quickchartButtonEl.classList.remove('colab-df-spinner');\n",
              "      quickchartButtonEl.classList.add('colab-df-quickchart-complete');\n",
              "    }\n",
              "    (() => {\n",
              "      let quickchartButtonEl =\n",
              "        document.querySelector('#df-e441df5c-174d-4b3a-b8da-e4f461a45142 button');\n",
              "      quickchartButtonEl.style.display =\n",
              "        google.colab.kernel.accessAllowed ? 'block' : 'none';\n",
              "    })();\n",
              "  </script>\n",
              "</div>\n",
              "\n",
              "    </div>\n",
              "  </div>\n"
            ],
            "application/vnd.google.colaboratory.intrinsic+json": {
              "type": "dataframe",
              "summary": "{\n  \"name\": \"df\",\n  \"rows\": 5,\n  \"fields\": [\n    {\n      \"column\": \"Date\",\n      \"properties\": {\n        \"dtype\": \"date\",\n        \"min\": \"2024-07-25 00:00:00\",\n        \"max\": \"2024-07-31 00:00:00\",\n        \"num_unique_values\": 5,\n        \"samples\": [\n          \"2024-07-26 00:00:00\",\n          \"2024-07-31 00:00:00\",\n          \"2024-07-29 00:00:00\"\n        ],\n        \"semantic_type\": \"\",\n        \"description\": \"\"\n      }\n    },\n    {\n      \"column\": \"Open\",\n      \"properties\": {\n        \"dtype\": \"number\",\n        \"std\": 0.28213468714333306,\n        \"min\": 7.570000171661377,\n        \"max\": 8.34000015258789,\n        \"num_unique_values\": 5,\n        \"samples\": [\n          8.119999885559082,\n          7.980000019073486,\n          8.34000015258789\n        ],\n        \"semantic_type\": \"\",\n        \"description\": \"\"\n      }\n    },\n    {\n      \"column\": \"High\",\n      \"properties\": {\n        \"dtype\": \"number\",\n        \"std\": 0.19555688280290281,\n        \"min\": 8.0,\n        \"max\": 8.46500015258789,\n        \"num_unique_values\": 5,\n        \"samples\": [\n          8.270000457763672,\n          8.46500015258789,\n          8.4399995803833\n        ],\n        \"semantic_type\": \"\",\n        \"description\": \"\"\n      }\n    },\n    {\n      \"column\": \"Low\",\n      \"properties\": {\n        \"dtype\": \"number\",\n        \"std\": 0.17742607597508903,\n        \"min\": 7.480000019073486,\n        \"max\": 7.920000076293945,\n        \"num_unique_values\": 5,\n        \"samples\": [\n          7.820000171661377,\n          7.920000076293945,\n          7.800000190734863\n        ],\n        \"semantic_type\": \"\",\n        \"description\": \"\"\n      }\n    },\n    {\n      \"column\": \"Close\",\n      \"properties\": {\n        \"dtype\": \"number\",\n        \"std\": 0.1757269721974307,\n        \"min\": 7.800000190734863,\n        \"max\": 8.210000038146973,\n        \"num_unique_values\": 5,\n        \"samples\": [\n          8.210000038146973,\n          8.149999618530273,\n          7.889999866485596\n        ],\n        \"semantic_type\": \"\",\n        \"description\": \"\"\n      }\n    },\n    {\n      \"column\": \"Adj Close\",\n      \"properties\": {\n        \"dtype\": \"number\",\n        \"std\": 0.1757269721974307,\n        \"min\": 7.800000190734863,\n        \"max\": 8.210000038146973,\n        \"num_unique_values\": 5,\n        \"samples\": [\n          8.210000038146973,\n          8.149999618530273,\n          7.889999866485596\n        ],\n        \"semantic_type\": \"\",\n        \"description\": \"\"\n      }\n    },\n    {\n      \"column\": \"Volume\",\n      \"properties\": {\n        \"dtype\": \"number\",\n        \"std\": 593586,\n        \"min\": 3040900,\n        \"max\": 4338900,\n        \"num_unique_values\": 5,\n        \"samples\": [\n          4307800,\n          4199500,\n          3420300\n        ],\n        \"semantic_type\": \"\",\n        \"description\": \"\"\n      }\n    },\n    {\n      \"column\": \"IONQ_sma_22\",\n      \"properties\": {\n        \"dtype\": \"number\",\n        \"std\": 0.0802665937586731,\n        \"min\": 7.7563636302948,\n        \"max\": 7.965454513376409,\n        \"num_unique_values\": 5,\n        \"samples\": [\n          7.829999988729304,\n          7.965454513376409,\n          7.882727254520763\n        ],\n        \"semantic_type\": \"\",\n        \"description\": \"\"\n      }\n    },\n    {\n      \"column\": \"IONQ_sma_5\",\n      \"properties\": {\n        \"dtype\": \"number\",\n        \"std\": 0.069549986316457,\n        \"min\": 7.871999931335449,\n        \"max\": 8.027999973297119,\n        \"num_unique_values\": 5,\n        \"samples\": [\n          8.027999973297119,\n          7.995999908447265,\n          7.9899999618530275\n        ],\n        \"semantic_type\": \"\",\n        \"description\": \"\"\n      }\n    },\n    {\n      \"column\": \"IONQ_sma_20\",\n      \"properties\": {\n        \"dtype\": \"number\",\n        \"std\": 0.0767341099763441,\n        \"min\": 7.865999984741211,\n        \"max\": 8.062999963760376,\n        \"num_unique_values\": 5,\n        \"samples\": [\n          7.9214999914169315,\n          8.062999963760376,\n          7.964499974250794\n        ],\n        \"semantic_type\": \"\",\n        \"description\": \"\"\n      }\n    }\n  ]\n}"
            }
          },
          "metadata": {},
          "execution_count": 14
        }
      ]
    },
    {
      "cell_type": "code",
      "source": [
        "df[\"Close\"];"
      ],
      "metadata": {
        "id": "Rg26W9GU2xNb"
      },
      "execution_count": null,
      "outputs": []
    },
    {
      "cell_type": "code",
      "source": [
        "fig,ax = plt.subplots(figsize=(10,4))\n",
        "\n",
        "ax.set_title(f\"{ticker} \",loc=\"right\")\n",
        "ax.plot(df['Close'],label='Close')\n",
        "ax.plot(df[f'{ticker}_sma_22'],label=f'{ticker}_sma_22')\n",
        "ax.plot(df[f'{ticker}_sma_20'],label=f'{ticker}_sma_20')\n",
        "\n",
        "ax.legend()"
      ],
      "metadata": {
        "id": "tILdluckWI-x",
        "colab": {
          "base_uri": "https://localhost:8080/",
          "height": 409
        },
        "outputId": "bdacd8e9-de40-41cd-bec1-4e1dd0bd47ba"
      },
      "execution_count": null,
      "outputs": [
        {
          "output_type": "execute_result",
          "data": {
            "text/plain": [
              "<matplotlib.legend.Legend at 0x79ef09f68520>"
            ]
          },
          "metadata": {},
          "execution_count": 15
        },
        {
          "output_type": "display_data",
          "data": {
            "text/plain": [
              "<Figure size 1000x400 with 1 Axes>"
            ],
            "image/png": "[encoded data removed]"
          },
          "metadata": {}
        }
      ]
    },
    {
      "cell_type": "code",
      "source": [
        "# SMA makes the `Close` curve smoothly\n",
        "df[['Close', f'{ticker}_sma_22']].plot(title=f\"{ticker}\");"
      ],
      "metadata": {
        "id": "o-krfG8v34V_",
        "colab": {
          "base_uri": "https://localhost:8080/",
          "height": 455
        },
        "outputId": "b7eedcf4-f152-4ce2-f594-47208b2f22fa"
      },
      "execution_count": null,
      "outputs": [
        {
          "output_type": "display_data",
          "data": {
            "text/plain": [
              "<Figure size 640x480 with 1 Axes>"
            ],
            "image/png": "[encoded data removed]"
          },
          "metadata": {}
        }
      ]
    },
    {
      "cell_type": "code",
      "source": [
        "import seaborn as sns\n",
        "\n",
        "# Seaborn style set\n",
        "sns.set(style=\"whitegrid\")"
      ],
      "metadata": {
        "id": "pMGJbcydVJTF"
      },
      "execution_count": null,
      "outputs": []
    },
    {
      "cell_type": "code",
      "source": [
        "df[['Close', f'{ticker}_sma_22']].plot(title=f\"{ticker}\");"
      ],
      "metadata": {
        "id": "0pvSAYHHVa6b",
        "colab": {
          "base_uri": "https://localhost:8080/",
          "height": 467
        },
        "outputId": "36615d1d-5714-4e08-ff6b-39628ade2224"
      },
      "execution_count": null,
      "outputs": [
        {
          "output_type": "display_data",
          "data": {
            "text/plain": [
              "<Figure size 640x480 with 1 Axes>"
            ],
            "image/png": "[encoded data removed]"
          },
          "metadata": {}
        }
      ]
    },
    {
      "cell_type": "code",
      "source": [
        "df.columns"
      ],
      "metadata": {
        "id": "ouomxJCpYc05"
      },
      "execution_count": null,
      "outputs": []
    },
    {
      "cell_type": "code",
      "source": [
        "list(df.columns)"
      ],
      "metadata": {
        "colab": {
          "base_uri": "https://localhost:8080/"
        },
        "id": "gvTXWBqmEy6Y",
        "outputId": "7e174217-50d1-4028-d1fe-14cb33cd95f4"
      },
      "execution_count": null,
      "outputs": [
        {
          "output_type": "execute_result",
          "data": {
            "text/plain": [
              "['Open',\n",
              " 'High',\n",
              " 'Low',\n",
              " 'Close',\n",
              " 'Adj Close',\n",
              " 'Volume',\n",
              " 'IONQ_sma_22',\n",
              " 'IONQ_sma_5',\n",
              " 'IONQ_sma_20']"
            ]
          },
          "metadata": {},
          "execution_count": 21
        }
      ]
    },
    {
      "cell_type": "code",
      "source": [
        "#import string as str\n",
        "[str.lower(col) for col in list(df.columns)]"
      ],
      "metadata": {
        "id": "sd9F0bqb4zTl"
      },
      "execution_count": null,
      "outputs": []
    },
    {
      "cell_type": "code",
      "source": [
        "def df_lower(df):\n",
        "  df.columns = [str.lower(col) for col in list(df.columns)]\n",
        "  return df\n",
        "df1=df_lower(df)"
      ],
      "metadata": {
        "id": "i_L6iJvS6dLM"
      },
      "execution_count": null,
      "outputs": []
    },
    {
      "cell_type": "code",
      "source": [
        "df1.head(2)"
      ],
      "metadata": {
        "colab": {
          "base_uri": "https://localhost:8080/",
          "height": 143
        },
        "id": "-YNViXL7FsBr",
        "outputId": "eaf52fa4-a734-4997-b942-e3d2612a6f9c"
      },
      "execution_count": null,
      "outputs": [
        {
          "output_type": "execute_result",
          "data": {
            "text/plain": [
              "             open   high    low  close  adj close   volume  ionq_sma_22  \\\n",
              "Date                                                                      \n",
              "2024-01-02  12.35  12.59  12.10  12.16      12.16  5951100          NaN   \n",
              "2024-01-03  11.81  12.09  11.77  11.93      11.93  6225700          NaN   \n",
              "\n",
              "            ionq_sma_5  ionq_sma_20  \n",
              "Date                                 \n",
              "2024-01-02         NaN          NaN  \n",
              "2024-01-03         NaN          NaN  "
            ],
            "text/html": [
              "\n",
              "  <div id=\"df-02dbb250-3592-44d3-9bb4-77363ed10215\" class=\"colab-df-container\">\n",
              "    <div>\n",
              "<style scoped>\n",
              "    .dataframe tbody tr th:only-of-type {\n",
              "        vertical-align: middle;\n",
              "    }\n",
              "\n",
              "    .dataframe tbody tr th {\n",
              "        vertical-align: top;\n",
              "    }\n",
              "\n",
              "    .dataframe thead th {\n",
              "        text-align: right;\n",
              "    }\n",
              "</style>\n",
              "<table border=\"1\" class=\"dataframe\">\n",
              "  <thead>\n",
              "    <tr style=\"text-align: right;\">\n",
              "      <th></th>\n",
              "      <th>open</th>\n",
              "      <th>high</th>\n",
              "      <th>low</th>\n",
              "      <th>close</th>\n",
              "      <th>adj close</th>\n",
              "      <th>volume</th>\n",
              "      <th>ionq_sma_22</th>\n",
              "      <th>ionq_sma_5</th>\n",
              "      <th>ionq_sma_20</th>\n",
              "    </tr>\n",
              "    <tr>\n",
              "      <th>Date</th>\n",
              "      <th></th>\n",
              "      <th></th>\n",
              "      <th></th>\n",
              "      <th></th>\n",
              "      <th></th>\n",
              "      <th></th>\n",
              "      <th></th>\n",
              "      <th></th>\n",
              "      <th></th>\n",
              "    </tr>\n",
              "  </thead>\n",
              "  <tbody>\n",
              "    <tr>\n",
              "      <th>2024-01-02</th>\n",
              "      <td>12.35</td>\n",
              "      <td>12.59</td>\n",
              "      <td>12.10</td>\n",
              "      <td>12.16</td>\n",
              "      <td>12.16</td>\n",
              "      <td>5951100</td>\n",
              "      <td>NaN</td>\n",
              "      <td>NaN</td>\n",
              "      <td>NaN</td>\n",
              "    </tr>\n",
              "    <tr>\n",
              "      <th>2024-01-03</th>\n",
              "      <td>11.81</td>\n",
              "      <td>12.09</td>\n",
              "      <td>11.77</td>\n",
              "      <td>11.93</td>\n",
              "      <td>11.93</td>\n",
              "      <td>6225700</td>\n",
              "      <td>NaN</td>\n",
              "      <td>NaN</td>\n",
              "      <td>NaN</td>\n",
              "    </tr>\n",
              "  </tbody>\n",
              "</table>\n",
              "</div>\n",
              "    <div class=\"colab-df-buttons\">\n",
              "\n",
              "  <div class=\"colab-df-container\">\n",
              "    <button class=\"colab-df-convert\" onclick=\"convertToInteractive('df-02dbb250-3592-44d3-9bb4-77363ed10215')\"\n",
              "            title=\"Convert this dataframe to an interactive table.\"\n",
              "            style=\"display:none;\">\n",
              "\n",
              "  <svg xmlns=\"http://www.w3.org/2000/svg\" height=\"24px\" viewBox=\"0 -960 960 960\">\n",
              "    <path d=\"M120-120v-720h720v720H120Zm60-500h600v-160H180v160Zm220 220h160v-160H400v160Zm0 220h160v-160H400v160ZM180-400h160v-160H180v160Zm440 0h160v-160H620v160ZM180-180h160v-160H180v160Zm440 0h160v-160H620v160Z\"/>\n",
              "  </svg>\n",
              "    </button>\n",
              "\n",
              "  <style>\n",
              "    .colab-df-container {\n",
              "      display:flex;\n",
              "      gap: 12px;\n",
              "    }\n",
              "\n",
              "    .colab-df-convert {\n",
              "      background-color: #E8F0FE;\n",
              "      border: none;\n",
              "      border-radius: 50%;\n",
              "      cursor: pointer;\n",
              "      display: none;\n",
              "      fill: #1967D2;\n",
              "      height: 32px;\n",
              "      padding: 0 0 0 0;\n",
              "      width: 32px;\n",
              "    }\n",
              "\n",
              "    .colab-df-convert:hover {\n",
              "      background-color: #E2EBFA;\n",
              "      box-shadow: 0px 1px 2px rgba(60, 64, 67, 0.3), 0px 1px 3px 1px rgba(60, 64, 67, 0.15);\n",
              "      fill: #174EA6;\n",
              "    }\n",
              "\n",
              "    .colab-df-buttons div {\n",
              "      margin-bottom: 4px;\n",
              "    }\n",
              "\n",
              "    [theme=dark] .colab-df-convert {\n",
              "      background-color: #3B4455;\n",
              "      fill: #D2E3FC;\n",
              "    }\n",
              "\n",
              "    [theme=dark] .colab-df-convert:hover {\n",
              "      background-color: #434B5C;\n",
              "      box-shadow: 0px 1px 3px 1px rgba(0, 0, 0, 0.15);\n",
              "      filter: drop-shadow(0px 1px 2px rgba(0, 0, 0, 0.3));\n",
              "      fill: #FFFFFF;\n",
              "    }\n",
              "  </style>\n",
              "\n",
              "    <script>\n",
              "      const buttonEl =\n",
              "        document.querySelector('#df-02dbb250-3592-44d3-9bb4-77363ed10215 button.colab-df-convert');\n",
              "      buttonEl.style.display =\n",
              "        google.colab.kernel.accessAllowed ? 'block' : 'none';\n",
              "\n",
              "      async function convertToInteractive(key) {\n",
              "        const element = document.querySelector('#df-02dbb250-3592-44d3-9bb4-77363ed10215');\n",
              "        const dataTable =\n",
              "          await google.colab.kernel.invokeFunction('convertToInteractive',\n",
              "                                                    [key], {});\n",
              "        if (!dataTable) return;\n",
              "\n",
              "        const docLinkHtml = 'Like what you see? Visit the ' +\n",
              "          '<a target=\"_blank\" href=https://colab.research.google.com/notebooks/data_table.ipynb>data table notebook</a>'\n",
              "          + ' to learn more about interactive tables.';\n",
              "        element.innerHTML = '';\n",
              "        dataTable['output_type'] = 'display_data';\n",
              "        await google.colab.output.renderOutput(dataTable, element);\n",
              "        const docLink = document.createElement('div');\n",
              "        docLink.innerHTML = docLinkHtml;\n",
              "        element.appendChild(docLink);\n",
              "      }\n",
              "    </script>\n",
              "  </div>\n",
              "\n",
              "\n",
              "<div id=\"df-6cf70d53-ba67-497c-a6bf-45d584d7162f\">\n",
              "  <button class=\"colab-df-quickchart\" onclick=\"quickchart('df-6cf70d53-ba67-497c-a6bf-45d584d7162f')\"\n",
              "            title=\"Suggest charts\"\n",
              "            style=\"display:none;\">\n",
              "\n",
              "<svg xmlns=\"http://www.w3.org/2000/svg\" height=\"24px\"viewBox=\"0 0 24 24\"\n",
              "     width=\"24px\">\n",
              "    <g>\n",
              "        <path d=\"M19 3H5c-1.1 0-2 .9-2 2v14c0 1.1.9 2 2 2h14c1.1 0 2-.9 2-2V5c0-1.1-.9-2-2-2zM9 17H7v-7h2v7zm4 0h-2V7h2v10zm4 0h-2v-4h2v4z\"/>\n",
              "    </g>\n",
              "</svg>\n",
              "  </button>\n",
              "\n",
              "<style>\n",
              "  .colab-df-quickchart {\n",
              "      --bg-color: #E8F0FE;\n",
              "      --fill-color: #1967D2;\n",
              "      --hover-bg-color: #E2EBFA;\n",
              "      --hover-fill-color: #174EA6;\n",
              "      --disabled-fill-color: #AAA;\n",
              "      --disabled-bg-color: #DDD;\n",
              "  }\n",
              "\n",
              "  [theme=dark] .colab-df-quickchart {\n",
              "      --bg-color: #3B4455;\n",
              "      --fill-color: #D2E3FC;\n",
              "      --hover-bg-color: #434B5C;\n",
              "      --hover-fill-color: #FFFFFF;\n",
              "      --disabled-bg-color: #3B4455;\n",
              "      --disabled-fill-color: #666;\n",
              "  }\n",
              "\n",
              "  .colab-df-quickchart {\n",
              "    background-color: var(--bg-color);\n",
              "    border: none;\n",
              "    border-radius: 50%;\n",
              "    cursor: pointer;\n",
              "    display: none;\n",
              "    fill: var(--fill-color);\n",
              "    height: 32px;\n",
              "    padding: 0;\n",
              "    width: 32px;\n",
              "  }\n",
              "\n",
              "  .colab-df-quickchart:hover {\n",
              "    background-color: var(--hover-bg-color);\n",
              "    box-shadow: 0 1px 2px rgba(60, 64, 67, 0.3), 0 1px 3px 1px rgba(60, 64, 67, 0.15);\n",
              "    fill: var(--button-hover-fill-color);\n",
              "  }\n",
              "\n",
              "  .colab-df-quickchart-complete:disabled,\n",
              "  .colab-df-quickchart-complete:disabled:hover {\n",
              "    background-color: var(--disabled-bg-color);\n",
              "    fill: var(--disabled-fill-color);\n",
              "    box-shadow: none;\n",
              "  }\n",
              "\n",
              "  .colab-df-spinner {\n",
              "    border: 2px solid var(--fill-color);\n",
              "    border-color: transparent;\n",
              "    border-bottom-color: var(--fill-color);\n",
              "    animation:\n",
              "      spin 1s steps(1) infinite;\n",
              "  }\n",
              "\n",
              "  @keyframes spin {\n",
              "    0% {\n",
              "      border-color: transparent;\n",
              "      border-bottom-color: var(--fill-color);\n",
              "      border-left-color: var(--fill-color);\n",
              "    }\n",
              "    20% {\n",
              "      border-color: transparent;\n",
              "      border-left-color: var(--fill-color);\n",
              "      border-top-color: var(--fill-color);\n",
              "    }\n",
              "    30% {\n",
              "      border-color: transparent;\n",
              "      border-left-color: var(--fill-color);\n",
              "      border-top-color: var(--fill-color);\n",
              "      border-right-color: var(--fill-color);\n",
              "    }\n",
              "    40% {\n",
              "      border-color: transparent;\n",
              "      border-right-color: var(--fill-color);\n",
              "      border-top-color: var(--fill-color);\n",
              "    }\n",
              "    60% {\n",
              "      border-color: transparent;\n",
              "      border-right-color: var(--fill-color);\n",
              "    }\n",
              "    80% {\n",
              "      border-color: transparent;\n",
              "      border-right-color: var(--fill-color);\n",
              "      border-bottom-color: var(--fill-color);\n",
              "    }\n",
              "    90% {\n",
              "      border-color: transparent;\n",
              "      border-bottom-color: var(--fill-color);\n",
              "    }\n",
              "  }\n",
              "</style>\n",
              "\n",
              "  <script>\n",
              "    async function quickchart(key) {\n",
              "      const quickchartButtonEl =\n",
              "        document.querySelector('#' + key + ' button');\n",
              "      quickchartButtonEl.disabled = true;  // To prevent multiple clicks.\n",
              "      quickchartButtonEl.classList.add('colab-df-spinner');\n",
              "      try {\n",
              "        const charts = await google.colab.kernel.invokeFunction(\n",
              "            'suggestCharts', [key], {});\n",
              "      } catch (error) {\n",
              "        console.error('Error during call to suggestCharts:', error);\n",
              "      }\n",
              "      quickchartButtonEl.classList.remove('colab-df-spinner');\n",
              "      quickchartButtonEl.classList.add('colab-df-quickchart-complete');\n",
              "    }\n",
              "    (() => {\n",
              "      let quickchartButtonEl =\n",
              "        document.querySelector('#df-6cf70d53-ba67-497c-a6bf-45d584d7162f button');\n",
              "      quickchartButtonEl.style.display =\n",
              "        google.colab.kernel.accessAllowed ? 'block' : 'none';\n",
              "    })();\n",
              "  </script>\n",
              "</div>\n",
              "\n",
              "    </div>\n",
              "  </div>\n"
            ],
            "application/vnd.google.colaboratory.intrinsic+json": {
              "type": "dataframe",
              "variable_name": "df1",
              "summary": "{\n  \"name\": \"df1\",\n  \"rows\": 146,\n  \"fields\": [\n    {\n      \"column\": \"Date\",\n      \"properties\": {\n        \"dtype\": \"date\",\n        \"min\": \"2024-01-02 00:00:00\",\n        \"max\": \"2024-07-31 00:00:00\",\n        \"num_unique_values\": 146,\n        \"samples\": [\n          \"2024-03-07 00:00:00\",\n          \"2024-05-21 00:00:00\",\n          \"2024-02-09 00:00:00\"\n        ],\n        \"semantic_type\": \"\",\n        \"description\": \"\"\n      }\n    },\n    {\n      \"column\": \"open\",\n      \"properties\": {\n        \"dtype\": \"number\",\n        \"std\": 1.533468531908707,\n        \"min\": 6.630000114440918,\n        \"max\": 12.460000038146973,\n        \"num_unique_values\": 134,\n        \"samples\": [\n          7.96999979019165,\n          9.270000457763672,\n          7.590000152587891\n        ],\n        \"semantic_type\": \"\",\n        \"description\": \"\"\n      }\n    },\n    {\n      \"column\": \"high\",\n      \"properties\": {\n        \"dtype\": \"number\",\n        \"std\": 1.5560951281421638,\n        \"min\": 6.764999866485596,\n        \"max\": 12.729999542236328,\n        \"num_unique_values\": 138,\n        \"samples\": [\n          9.020000457763672,\n          8.305000305175781,\n          10.859999656677246\n        ],\n        \"semantic_type\": \"\",\n        \"description\": \"\"\n      }\n    },\n    {\n      \"column\": \"low\",\n      \"properties\": {\n        \"dtype\": \"number\",\n        \"std\": 1.4606497295407748,\n        \"min\": 6.329999923706055,\n        \"max\": 12.170000076293945,\n        \"num_unique_values\": 128,\n        \"samples\": [\n          9.279999732971191,\n          10.175000190734863,\n          10.550000190734863\n        ],\n        \"semantic_type\": \"\",\n        \"description\": \"\"\n      }\n    },\n    {\n      \"column\": \"close\",\n      \"properties\": {\n        \"dtype\": \"number\",\n        \"std\": 1.4952958781598198,\n        \"min\": 6.590000152587891,\n        \"max\": 12.640000343322754,\n        \"num_unique_values\": 127,\n        \"samples\": [\n          11.619999885559082,\n          7.139999866485596,\n          8.779999732971191\n        ],\n        \"semantic_type\": \"\",\n        \"description\": \"\"\n      }\n    },\n    {\n      \"column\": \"adj close\",\n      \"properties\": {\n        \"dtype\": \"number\",\n        \"std\": 1.4952958781598198,\n        \"min\": 6.590000152587891,\n        \"max\": 12.640000343322754,\n        \"num_unique_values\": 127,\n        \"samples\": [\n          11.619999885559082,\n          7.139999866485596,\n          8.779999732971191\n        ],\n        \"semantic_type\": \"\",\n        \"description\": \"\"\n      }\n    },\n    {\n      \"column\": \"volume\",\n      \"properties\": {\n        \"dtype\": \"number\",\n        \"std\": 2940846,\n        \"min\": 2206100,\n        \"max\": 26317500,\n        \"num_unique_values\": 146,\n        \"samples\": [\n          12945000,\n          4747000,\n          5637300\n        ],\n        \"semantic_type\": \"\",\n        \"description\": \"\"\n      }\n    },\n    {\n      \"column\": \"ionq_sma_22\",\n      \"properties\": {\n        \"dtype\": \"number\",\n        \"std\": 1.243615312975057,\n        \"min\": 7.356363664973866,\n        \"max\": 11.415454604408957,\n        \"num_unique_values\": 123,\n        \"samples\": [\n          10.788181738419967,\n          9.443181774832986,\n          9.244999928907914\n        ],\n        \"semantic_type\": \"\",\n        \"description\": \"\"\n      }\n    },\n    {\n      \"column\": \"ionq_sma_5\",\n      \"properties\": {\n        \"dtype\": \"number\",\n        \"std\": 1.434247746959919,\n        \"min\": 6.728000164031982,\n        \"max\": 12.292000007629394,\n        \"num_unique_values\": 138,\n        \"samples\": [\n          8.918000030517579,\n          7.946000003814698,\n          11.33400001525879\n        ],\n        \"semantic_type\": \"\",\n        \"description\": \"\"\n      }\n    },\n    {\n      \"column\": \"ionq_sma_20\",\n      \"properties\": {\n        \"dtype\": \"number\",\n        \"std\": 1.2620294912468706,\n        \"min\": 7.304000043869019,\n        \"max\": 11.531500053405761,\n        \"num_unique_values\": 126,\n        \"samples\": [\n          8.465000009536743,\n          10.743499898910523,\n          7.580000042915344\n        ],\n        \"semantic_type\": \"\",\n        \"description\": \"\"\n      }\n    }\n  ]\n}"
            }
          },
          "metadata": {},
          "execution_count": 23
        }
      ]
    },
    {
      "cell_type": "markdown",
      "source": [
        "KD\n",
        "---\n",
        "1. `RSV`, Raw Stockastic Variable,\n",
        "$$ \\text{ RSV }_t = \\frac{\\text{Today}_{\\text{Close}} - \\text{Lowest}_t}{\\text{Highest}_t- \\text{Lowest}_t} $$\n",
        "2. KD\n",
        "\\begin{align*}\n",
        " K_t &=& \\frac{2}{3}K_{t-1}+\\frac{1}{3}\\text{RSV}_t\\\\\n",
        "D_t &=& \\frac{2}{3}D_{t-1}+\\frac{1}{3}K_t\n",
        "\\end{align*}\n",
        "1. K can be treated as fast line, and the other as slow line.\n",
        "2. 1/2 treated if none of K, D defined."
      ],
      "metadata": {
        "id": "PssIQsc6G_eN"
      }
    },
    {
      "cell_type": "code",
      "source": [
        "from talib import abstract\n",
        "\n",
        "df_kd=abstract.STOCH(df1, fastk_period=9, slowk_period=3, slowd_period=3)\n"
      ],
      "metadata": {
        "id": "z4JcucOY3jjI"
      },
      "execution_count": null,
      "outputs": []
    },
    {
      "cell_type": "code",
      "source": [
        "df['slowk']=df_kd['slowk']\n",
        "df['slowd']=df_kd['slowd']"
      ],
      "metadata": {
        "id": "BnRB5wZB8jFs"
      },
      "execution_count": null,
      "outputs": []
    },
    {
      "cell_type": "code",
      "source": [
        "df_kd.tail(2)"
      ],
      "metadata": {
        "colab": {
          "base_uri": "https://localhost:8080/",
          "height": 143
        },
        "id": "BXW62KG6Gwl6",
        "outputId": "60a6172e-dfb2-4584-a23b-0ddcb3560504"
      },
      "execution_count": null,
      "outputs": [
        {
          "output_type": "execute_result",
          "data": {
            "text/plain": [
              "                slowk      slowd\n",
              "Date                            \n",
              "2024-07-30  37.672650  36.481309\n",
              "2024-07-31  44.750261  40.485366"
            ],
            "text/html": [
              "\n",
              "  <div id=\"df-28adb2c1-f9c6-448d-95e8-a59fbd92c185\" class=\"colab-df-container\">\n",
              "    <div>\n",
              "<style scoped>\n",
              "    .dataframe tbody tr th:only-of-type {\n",
              "        vertical-align: middle;\n",
              "    }\n",
              "\n",
              "    .dataframe tbody tr th {\n",
              "        vertical-align: top;\n",
              "    }\n",
              "\n",
              "    .dataframe thead th {\n",
              "        text-align: right;\n",
              "    }\n",
              "</style>\n",
              "<table border=\"1\" class=\"dataframe\">\n",
              "  <thead>\n",
              "    <tr style=\"text-align: right;\">\n",
              "      <th></th>\n",
              "      <th>slowk</th>\n",
              "      <th>slowd</th>\n",
              "    </tr>\n",
              "    <tr>\n",
              "      <th>Date</th>\n",
              "      <th></th>\n",
              "      <th></th>\n",
              "    </tr>\n",
              "  </thead>\n",
              "  <tbody>\n",
              "    <tr>\n",
              "      <th>2024-07-30</th>\n",
              "      <td>37.672650</td>\n",
              "      <td>36.481309</td>\n",
              "    </tr>\n",
              "    <tr>\n",
              "      <th>2024-07-31</th>\n",
              "      <td>44.750261</td>\n",
              "      <td>40.485366</td>\n",
              "    </tr>\n",
              "  </tbody>\n",
              "</table>\n",
              "</div>\n",
              "    <div class=\"colab-df-buttons\">\n",
              "\n",
              "  <div class=\"colab-df-container\">\n",
              "    <button class=\"colab-df-convert\" onclick=\"convertToInteractive('df-28adb2c1-f9c6-448d-95e8-a59fbd92c185')\"\n",
              "            title=\"Convert this dataframe to an interactive table.\"\n",
              "            style=\"display:none;\">\n",
              "\n",
              "  <svg xmlns=\"http://www.w3.org/2000/svg\" height=\"24px\" viewBox=\"0 -960 960 960\">\n",
              "    <path d=\"M120-120v-720h720v720H120Zm60-500h600v-160H180v160Zm220 220h160v-160H400v160Zm0 220h160v-160H400v160ZM180-400h160v-160H180v160Zm440 0h160v-160H620v160ZM180-180h160v-160H180v160Zm440 0h160v-160H620v160Z\"/>\n",
              "  </svg>\n",
              "    </button>\n",
              "\n",
              "  <style>\n",
              "    .colab-df-container {\n",
              "      display:flex;\n",
              "      gap: 12px;\n",
              "    }\n",
              "\n",
              "    .colab-df-convert {\n",
              "      background-color: #E8F0FE;\n",
              "      border: none;\n",
              "      border-radius: 50%;\n",
              "      cursor: pointer;\n",
              "      display: none;\n",
              "      fill: #1967D2;\n",
              "      height: 32px;\n",
              "      padding: 0 0 0 0;\n",
              "      width: 32px;\n",
              "    }\n",
              "\n",
              "    .colab-df-convert:hover {\n",
              "      background-color: #E2EBFA;\n",
              "      box-shadow: 0px 1px 2px rgba(60, 64, 67, 0.3), 0px 1px 3px 1px rgba(60, 64, 67, 0.15);\n",
              "      fill: #174EA6;\n",
              "    }\n",
              "\n",
              "    .colab-df-buttons div {\n",
              "      margin-bottom: 4px;\n",
              "    }\n",
              "\n",
              "    [theme=dark] .colab-df-convert {\n",
              "      background-color: #3B4455;\n",
              "      fill: #D2E3FC;\n",
              "    }\n",
              "\n",
              "    [theme=dark] .colab-df-convert:hover {\n",
              "      background-color: #434B5C;\n",
              "      box-shadow: 0px 1px 3px 1px rgba(0, 0, 0, 0.15);\n",
              "      filter: drop-shadow(0px 1px 2px rgba(0, 0, 0, 0.3));\n",
              "      fill: #FFFFFF;\n",
              "    }\n",
              "  </style>\n",
              "\n",
              "    <script>\n",
              "      const buttonEl =\n",
              "        document.querySelector('#df-28adb2c1-f9c6-448d-95e8-a59fbd92c185 button.colab-df-convert');\n",
              "      buttonEl.style.display =\n",
              "        google.colab.kernel.accessAllowed ? 'block' : 'none';\n",
              "\n",
              "      async function convertToInteractive(key) {\n",
              "        const element = document.querySelector('#df-28adb2c1-f9c6-448d-95e8-a59fbd92c185');\n",
              "        const dataTable =\n",
              "          await google.colab.kernel.invokeFunction('convertToInteractive',\n",
              "                                                    [key], {});\n",
              "        if (!dataTable) return;\n",
              "\n",
              "        const docLinkHtml = 'Like what you see? Visit the ' +\n",
              "          '<a target=\"_blank\" href=https://colab.research.google.com/notebooks/data_table.ipynb>data table notebook</a>'\n",
              "          + ' to learn more about interactive tables.';\n",
              "        element.innerHTML = '';\n",
              "        dataTable['output_type'] = 'display_data';\n",
              "        await google.colab.output.renderOutput(dataTable, element);\n",
              "        const docLink = document.createElement('div');\n",
              "        docLink.innerHTML = docLinkHtml;\n",
              "        element.appendChild(docLink);\n",
              "      }\n",
              "    </script>\n",
              "  </div>\n",
              "\n",
              "\n",
              "<div id=\"df-88555331-cfb5-40af-94d8-d7e33dfa45e1\">\n",
              "  <button class=\"colab-df-quickchart\" onclick=\"quickchart('df-88555331-cfb5-40af-94d8-d7e33dfa45e1')\"\n",
              "            title=\"Suggest charts\"\n",
              "            style=\"display:none;\">\n",
              "\n",
              "<svg xmlns=\"http://www.w3.org/2000/svg\" height=\"24px\"viewBox=\"0 0 24 24\"\n",
              "     width=\"24px\">\n",
              "    <g>\n",
              "        <path d=\"M19 3H5c-1.1 0-2 .9-2 2v14c0 1.1.9 2 2 2h14c1.1 0 2-.9 2-2V5c0-1.1-.9-2-2-2zM9 17H7v-7h2v7zm4 0h-2V7h2v10zm4 0h-2v-4h2v4z\"/>\n",
              "    </g>\n",
              "</svg>\n",
              "  </button>\n",
              "\n",
              "<style>\n",
              "  .colab-df-quickchart {\n",
              "      --bg-color: #E8F0FE;\n",
              "      --fill-color: #1967D2;\n",
              "      --hover-bg-color: #E2EBFA;\n",
              "      --hover-fill-color: #174EA6;\n",
              "      --disabled-fill-color: #AAA;\n",
              "      --disabled-bg-color: #DDD;\n",
              "  }\n",
              "\n",
              "  [theme=dark] .colab-df-quickchart {\n",
              "      --bg-color: #3B4455;\n",
              "      --fill-color: #D2E3FC;\n",
              "      --hover-bg-color: #434B5C;\n",
              "      --hover-fill-color: #FFFFFF;\n",
              "      --disabled-bg-color: #3B4455;\n",
              "      --disabled-fill-color: #666;\n",
              "  }\n",
              "\n",
              "  .colab-df-quickchart {\n",
              "    background-color: var(--bg-color);\n",
              "    border: none;\n",
              "    border-radius: 50%;\n",
              "    cursor: pointer;\n",
              "    display: none;\n",
              "    fill: var(--fill-color);\n",
              "    height: 32px;\n",
              "    padding: 0;\n",
              "    width: 32px;\n",
              "  }\n",
              "\n",
              "  .colab-df-quickchart:hover {\n",
              "    background-color: var(--hover-bg-color);\n",
              "    box-shadow: 0 1px 2px rgba(60, 64, 67, 0.3), 0 1px 3px 1px rgba(60, 64, 67, 0.15);\n",
              "    fill: var(--button-hover-fill-color);\n",
              "  }\n",
              "\n",
              "  .colab-df-quickchart-complete:disabled,\n",
              "  .colab-df-quickchart-complete:disabled:hover {\n",
              "    background-color: var(--disabled-bg-color);\n",
              "    fill: var(--disabled-fill-color);\n",
              "    box-shadow: none;\n",
              "  }\n",
              "\n",
              "  .colab-df-spinner {\n",
              "    border: 2px solid var(--fill-color);\n",
              "    border-color: transparent;\n",
              "    border-bottom-color: var(--fill-color);\n",
              "    animation:\n",
              "      spin 1s steps(1) infinite;\n",
              "  }\n",
              "\n",
              "  @keyframes spin {\n",
              "    0% {\n",
              "      border-color: transparent;\n",
              "      border-bottom-color: var(--fill-color);\n",
              "      border-left-color: var(--fill-color);\n",
              "    }\n",
              "    20% {\n",
              "      border-color: transparent;\n",
              "      border-left-color: var(--fill-color);\n",
              "      border-top-color: var(--fill-color);\n",
              "    }\n",
              "    30% {\n",
              "      border-color: transparent;\n",
              "      border-left-color: var(--fill-color);\n",
              "      border-top-color: var(--fill-color);\n",
              "      border-right-color: var(--fill-color);\n",
              "    }\n",
              "    40% {\n",
              "      border-color: transparent;\n",
              "      border-right-color: var(--fill-color);\n",
              "      border-top-color: var(--fill-color);\n",
              "    }\n",
              "    60% {\n",
              "      border-color: transparent;\n",
              "      border-right-color: var(--fill-color);\n",
              "    }\n",
              "    80% {\n",
              "      border-color: transparent;\n",
              "      border-right-color: var(--fill-color);\n",
              "      border-bottom-color: var(--fill-color);\n",
              "    }\n",
              "    90% {\n",
              "      border-color: transparent;\n",
              "      border-bottom-color: var(--fill-color);\n",
              "    }\n",
              "  }\n",
              "</style>\n",
              "\n",
              "  <script>\n",
              "    async function quickchart(key) {\n",
              "      const quickchartButtonEl =\n",
              "        document.querySelector('#' + key + ' button');\n",
              "      quickchartButtonEl.disabled = true;  // To prevent multiple clicks.\n",
              "      quickchartButtonEl.classList.add('colab-df-spinner');\n",
              "      try {\n",
              "        const charts = await google.colab.kernel.invokeFunction(\n",
              "            'suggestCharts', [key], {});\n",
              "      } catch (error) {\n",
              "        console.error('Error during call to suggestCharts:', error);\n",
              "      }\n",
              "      quickchartButtonEl.classList.remove('colab-df-spinner');\n",
              "      quickchartButtonEl.classList.add('colab-df-quickchart-complete');\n",
              "    }\n",
              "    (() => {\n",
              "      let quickchartButtonEl =\n",
              "        document.querySelector('#df-88555331-cfb5-40af-94d8-d7e33dfa45e1 button');\n",
              "      quickchartButtonEl.style.display =\n",
              "        google.colab.kernel.accessAllowed ? 'block' : 'none';\n",
              "    })();\n",
              "  </script>\n",
              "</div>\n",
              "\n",
              "    </div>\n",
              "  </div>\n"
            ],
            "application/vnd.google.colaboratory.intrinsic+json": {
              "type": "dataframe",
              "summary": "{\n  \"name\": \"df_kd\",\n  \"rows\": 2,\n  \"fields\": [\n    {\n      \"column\": \"Date\",\n      \"properties\": {\n        \"dtype\": \"date\",\n        \"min\": \"2024-07-30 00:00:00\",\n        \"max\": \"2024-07-31 00:00:00\",\n        \"num_unique_values\": 2,\n        \"samples\": [\n          \"2024-07-31 00:00:00\",\n          \"2024-07-30 00:00:00\"\n        ],\n        \"semantic_type\": \"\",\n        \"description\": \"\"\n      }\n    },\n    {\n      \"column\": \"slowk\",\n      \"properties\": {\n        \"dtype\": \"number\",\n        \"std\": 5.004627193536112,\n        \"min\": 37.67264983033341,\n        \"max\": 44.75026148205338,\n        \"num_unique_values\": 2,\n        \"samples\": [\n          44.75026148205338,\n          37.67264983033341\n        ],\n        \"semantic_type\": \"\",\n        \"description\": \"\"\n      }\n    },\n    {\n      \"column\": \"slowd\",\n      \"properties\": {\n        \"dtype\": \"number\",\n        \"std\": 2.8312956916583283,\n        \"min\": 36.481308919718444,\n        \"max\": 40.485365685950164,\n        \"num_unique_values\": 2,\n        \"samples\": [\n          40.485365685950164,\n          36.481308919718444\n        ],\n        \"semantic_type\": \"\",\n        \"description\": \"\"\n      }\n    }\n  ]\n}"
            }
          },
          "metadata": {},
          "execution_count": 26
        }
      ]
    },
    {
      "cell_type": "code",
      "source": [
        "import seaborn as sns\n",
        "sns.set()"
      ],
      "metadata": {
        "id": "mK_xIuq3KszR"
      },
      "execution_count": null,
      "outputs": []
    },
    {
      "cell_type": "code",
      "source": [
        "# plot cloase with kd curve\n",
        "df1[['close', 'slowk', 'slowd']].plot()"
      ],
      "metadata": {
        "id": "q-IYnkei4oYt",
        "colab": {
          "base_uri": "https://localhost:8080/",
          "height": 466
        },
        "outputId": "dac144c7-f3fe-4dd0-faae-14eb5cff8fe6"
      },
      "execution_count": null,
      "outputs": [
        {
          "output_type": "execute_result",
          "data": {
            "text/plain": [
              "<Axes: xlabel='Date'>"
            ]
          },
          "metadata": {},
          "execution_count": 27
        },
        {
          "output_type": "display_data",
          "data": {
            "text/plain": [
              "<Figure size 640x480 with 1 Axes>"
            ],
            "image/png": "[encoded data removed]"
          },
          "metadata": {}
        }
      ]
    },
    {
      "cell_type": "code",
      "source": [],
      "metadata": {
        "id": "rNiSOgtFLFMv"
      },
      "execution_count": null,
      "outputs": []
    },
    {
      "cell_type": "markdown",
      "source": [
        "Actually, `Close` and `KD` are two plots in different consideration. Note that K,D are within 0-100.\n",
        "\n",
        "**Note**, we can generate the python code by LLM, such as [Claude](claude.ai), [GROQ](groq.com), if we actually know how and what we want to do. Before you use LLM's, learn the knowledge first."
      ],
      "metadata": {
        "id": "e4GJLf2MLLlx"
      }
    },
    {
      "cell_type": "code",
      "source": [],
      "metadata": {
        "id": "1kvq7EZFaYvb"
      },
      "execution_count": null,
      "outputs": []
    },
    {
      "cell_type": "code",
      "source": [
        "# prompt: make close cureve with subplot kd curve\n",
        "\n",
        "# Create a figure with two subplots\n",
        "fig, (ax1, ax2) = plt.subplots(2, 1, figsize=(10, 6),gridspec_kw={'height_ratios': [3, 1]},)\n",
        "\n",
        "# Plot the close price on the first subplot\n",
        "ax1.plot(df['close'], label='Close')\n",
        "ax1.set_title(f'f{ticker} Close Price')\n",
        "ax1.grid(True)\n",
        "ax1.legend()\n",
        "\n",
        "# Plot the slowk and slowd curves on the second subplot\n",
        "ax2.plot(df['slowk'], label='SlowK')\n",
        "ax2.plot(df['slowd'], label='SlowD')\n",
        "ax2.set_title('KD')\n",
        "ax2.set_ylim(0, 100)\n",
        "ax2.grid(True)\n",
        "ax2.legend()\n",
        "\n",
        "# Adjust the spacing between subplots\n",
        "plt.tight_layout()\n",
        "\n",
        "# Show the plot\n",
        "plt.tight_layout()\n",
        "plt.show()\n"
      ],
      "metadata": {
        "id": "BotnOvzs8TTE",
        "colab": {
          "base_uri": "https://localhost:8080/",
          "height": 601
        },
        "outputId": "567f79a7-0c50-4ab8-ecc5-16c470e1cfd9"
      },
      "execution_count": null,
      "outputs": [
        {
          "output_type": "display_data",
          "data": {
            "text/plain": [
              "<Figure size 1000x600 with 2 Axes>"
            ],
            "image/png": "[encoded data removed]"
          },
          "metadata": {}
        }
      ]
    },
    {
      "cell_type": "code",
      "source": [],
      "metadata": {
        "id": "x7D3sP_jMRxF"
      },
      "execution_count": null,
      "outputs": []
    },
    {
      "cell_type": "markdown",
      "source": [
        "Enhance TA on Pandas\n",
        "---\n",
        "\n",
        "[code](https://medium.com/@kokhua81/stocks-technical-analysis-ta-with-python-chatgpt-a-comprehensive-guide-871a756ebc7c)"
      ],
      "metadata": {
        "id": "W4GD-4nDMSrk"
      }
    },
    {
      "cell_type": "code",
      "source": [
        "!pip install -q pandas_ta"
      ],
      "metadata": {
        "id": "70uvguEUMR2O",
        "colab": {
          "base_uri": "https://localhost:8080/"
        },
        "outputId": "49e19ea8-3945-41fa-ab74-5b7aedba3232"
      },
      "execution_count": null,
      "outputs": [
        {
          "output_type": "stream",
          "name": "stdout",
          "text": [
            "\u001b[?25l     \u001b[90m━━━━━━━━━━━━━━━━━━━━━━━━━━━━━━━━━━━━━━━━\u001b[0m \u001b[32m0.0/115.1 kB\u001b[0m \u001b[31m?\u001b[0m eta \u001b[36m-:--:--\u001b[0m\r\u001b[2K     \u001b[90m━━━━━━━━━━━━━━━━━━━━━━━━━━━━━━━━━━━━━━━━\u001b[0m \u001b[32m115.1/115.1 kB\u001b[0m \u001b[31m4.6 MB/s\u001b[0m eta \u001b[36m0:00:00\u001b[0m\n",
            "\u001b[?25h  Preparing metadata (setup.py) ... \u001b[?25l\u001b[?25hdone\n",
            "  Building wheel for pandas_ta (setup.py) ... \u001b[?25l\u001b[?25hdone\n"
          ]
        }
      ]
    },
    {
      "cell_type": "code",
      "source": [
        "#import pandas as pd\n",
        "#import yfinance as yf\n",
        "import pandas_ta as ta\n",
        "#import matplotlib.dates as mdates\n",
        "from datetime import datetime, timedelta\n",
        "import matplotlib.dates as mdates\n",
        "import matplotlib.pyplot as plt"
      ],
      "metadata": {
        "id": "J6rVZFD0MYsF"
      },
      "execution_count": null,
      "outputs": []
    },
    {
      "cell_type": "code",
      "source": [],
      "metadata": {
        "id": "H4b0-a1KO_LP"
      },
      "execution_count": null,
      "outputs": []
    },
    {
      "cell_type": "markdown",
      "source": [
        "1. MACD, Moving Average Convergence / Divergence,  "
      ],
      "metadata": {
        "id": "2yaezqBZO_0A"
      }
    },
    {
      "cell_type": "code",
      "source": [
        "# Calculate technical indicators using pandas-ta\n",
        "df.ta.macd(append=True)\n",
        "df.ta.rsi(append=True)\n",
        "df.ta.bbands(append=True)\n",
        "df.ta.obv(append=True)"
      ],
      "metadata": {
        "id": "5Ua6MZbyMqP6"
      },
      "execution_count": null,
      "outputs": []
    },
    {
      "cell_type": "code",
      "source": [
        "df.tail()"
      ],
      "metadata": {
        "id": "TDF-oBRYNC27"
      },
      "execution_count": null,
      "outputs": []
    },
    {
      "cell_type": "code",
      "source": [],
      "metadata": {
        "id": "nbT3FaQHdN-W"
      },
      "execution_count": null,
      "outputs": []
    },
    {
      "cell_type": "markdown",
      "source": [
        "EMA: weighted moving average\n",
        "$$ EMA_k(t)=X(t)⋅ k+ EMA_k(t-1)\\cdot (1-p)$$\n",
        "- $p=1/(k+1)$"
      ],
      "metadata": {
        "id": "u5sE5peCdOr3"
      }
    },
    {
      "cell_type": "code",
      "source": [
        "df.ta.sma(length=20, append=True);\n",
        "df.ta.ema(length=50, append=True);"
      ],
      "metadata": {
        "id": "FL921HXgN2dV"
      },
      "execution_count": null,
      "outputs": []
    },
    {
      "cell_type": "code",
      "source": [
        "df.head(2)"
      ],
      "metadata": {
        "id": "iZLRUSvNjo1Z"
      },
      "execution_count": null,
      "outputs": []
    },
    {
      "cell_type": "code",
      "source": [
        "# Price Trend Chart\n",
        "#plt.subplot(3, 3, 1)\n",
        "plt.plot(df.index, df['close'], label='Close', color='blue')\n",
        "plt.plot(df.index, df['EMA_50'], label='EMA 50', color='green')\n",
        "plt.plot(df.index, df['SMA_20'], label='SMA_20', color='orange')\n",
        "plt.title(\"Price Trend\")\n",
        "plt.gca().xaxis.set_major_formatter(mdates.DateFormatter('%b%d'))  # Format date as \"Jun14\"\n",
        "plt.xticks(rotation=45, fontsize=8)  # Adjust font size\n",
        "plt.legend()\n",
        "\n"
      ],
      "metadata": {
        "id": "nJFphpO7NHdX"
      },
      "execution_count": null,
      "outputs": []
    },
    {
      "cell_type": "code",
      "source": [
        "df.tail()"
      ],
      "metadata": {
        "id": "9VLvLdJPOtXn"
      },
      "execution_count": null,
      "outputs": []
    },
    {
      "cell_type": "code",
      "source": [],
      "metadata": {
        "id": "iTqVOEuelMvW"
      },
      "execution_count": null,
      "outputs": []
    },
    {
      "cell_type": "markdown",
      "source": [
        "MACD helps investors identify price trends:\n",
        "\n",
        "$$MACD= EMA_{12} − EMA_{26}$$"
      ],
      "metadata": {
        "id": "cLtdEEevlNCK"
      }
    },
    {
      "cell_type": "code",
      "source": [
        "# MACD Plot\n",
        "#plt.subplot(3, 3, 3)\n",
        "plt.plot(df['MACD_12_26_9'], label='MACD')\n",
        "plt.plot(df['MACDh_12_26_9'], label='MACD Histogram')\n",
        "plt.title('MACD Indicator')\n",
        "plt.gca().xaxis.set_major_formatter(mdates.DateFormatter('%b%d'))  # Format date as \"Jun14\"\n",
        "plt.xticks(rotation=45, fontsize=8)  # Adjust font size\n",
        "plt.title(\"MACD\")\n",
        "plt.legend()"
      ],
      "metadata": {
        "id": "sCZZlF33N_B3"
      },
      "execution_count": null,
      "outputs": []
    },
    {
      "cell_type": "markdown",
      "source": [
        "RSI, Relative Strength Index,Indicator\n",
        "---\n",
        " Explained With Formula, over-bought(too hot), over-sold."
      ],
      "metadata": {
        "id": "e45ulCGZmDZT"
      }
    },
    {
      "cell_type": "code",
      "source": [
        "#plt.subplot(3, 3, 4)\n",
        "plt.plot(df['RSI_14'], label='RSI')\n",
        "plt.axhline(y=70, color='r', linestyle='--', label='Overbought (70)')\n",
        "plt.axhline(y=30, color='g', linestyle='--', label='Oversold (30)')\n",
        "plt.legend()\n",
        "plt.gca().xaxis.set_major_formatter(mdates.DateFormatter('%b%d'))  # Format date as \"Jun14\"\n",
        "plt.xticks(rotation=45, fontsize=8)  # Adjust font size\n",
        "plt.title('RSI Indicator')\n"
      ],
      "metadata": {
        "id": "fJOQS6y8PhnF"
      },
      "execution_count": null,
      "outputs": []
    },
    {
      "cell_type": "markdown",
      "source": [
        "Bollinger Bands\n",
        "---\n",
        "$$ SMA_t\\pm 1.5\\sigma$$\n",
        "Long, Medium, Shot termsm $t=50,20,10$\n",
        "1. Long term: 50 day moving average, bands at 2.5 standard deviations. (2.5 times the standard dev. +/- the SMA),\n",
        "2. Medium term: 20 day moving average, bands at 2 standard deviations.\n",
        "\n",
        "3. Short term: 10 day moving average, bands at 1.5 standard deviations.\n",
        "\n"
      ],
      "metadata": {
        "id": "auH9Ax9ZSc0a"
      }
    },
    {
      "cell_type": "code",
      "source": [
        "# Bollinger Bands Plot\n",
        "plt.figure(figsize=(8, 4))\n",
        "#plt.subplot(3, 3, 5)\n",
        "plt.plot(df.index, df['BBU_5_2.0'], label='Upper BB')\n",
        "#plt.plot(df.index, df['BBM_5_2.0'], label='Middle BB')\n",
        "plt.plot(df.index, df['BBL_5_2.0'], label='Lower BB')\n",
        "plt.plot(df.index, df['close'], label='Adj Close', color='brown')\n",
        "\n",
        "#plt.fill_between(df.index, df['BBU_5_2.0'], df['BBL_5_2.0'],  alpha=0.3)\n",
        "plt.title(f\"{ticker}\\'s Bollinger Bands\")\n",
        "\n",
        "plt.xticks(rotation=45, fontsize=8)  # Adjust font size\n",
        "plt.legend()\n"
      ],
      "metadata": {
        "id": "d_Gl6YJ5P3m3"
      },
      "execution_count": null,
      "outputs": []
    },
    {
      "cell_type": "code",
      "source": [],
      "metadata": {
        "id": "NlhA_sPBQPD-"
      },
      "execution_count": null,
      "outputs": []
    }
  ]
}